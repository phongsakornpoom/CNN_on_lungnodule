{
 "cells": [
  {
   "cell_type": "markdown",
   "id": "87bbc35d",
   "metadata": {},
   "source": [
    "# Pongsakorn Tanupatrasakul \n",
    "# Content\n",
    "<b>Sections</b>\n",
    "<ol>\n",
    "    <li>Preproccessing</li>\n",
    "    <li>Modelling</li>\n",
    "    <li>Evaluation</li>"
   ]
  },
  {
   "cell_type": "markdown",
   "id": "1dccdbe1",
   "metadata": {},
   "source": [
    "# Libraries "
   ]
  },
  {
   "cell_type": "code",
   "execution_count": 1,
   "id": "8986efbf",
   "metadata": {},
   "outputs": [],
   "source": [
    "import os \n",
    "import pandas as pd\n",
    "import numpy as np\n",
    "import tensorflow as tf\n",
    "from shutil import move\n",
    "from tensorflow.keras.models import Sequential\n",
    "import matplotlib.pyplot as plt\n",
    "import seaborn as sns\n",
    "from tensorflow.keras.layers import Dense, Flatten,Conv2D,MaxPool2D, Dropout, BatchNormalization\n",
    "from tensorflow.keras.preprocessing.image import ImageDataGenerator\n",
    "from tensorflow.keras.callbacks import EarlyStopping\n",
    "from sklearn.metrics import auc, roc_curve, classification_report, confusion_matrix, accuracy_score, recall_score"
   ]
  },
  {
   "cell_type": "markdown",
   "id": "3e9cd5d3",
   "metadata": {},
   "source": [
    "# preproccessing "
   ]
  },
  {
   "cell_type": "code",
   "execution_count": 2,
   "id": "4a88d1e4",
   "metadata": {},
   "outputs": [],
   "source": [
    "trainlabel = 'data/trainlabels.txt'\n",
    "testlabel = 'data/testlabels.txt'\n",
    "vallabel = 'data/vallabels.txt'\n",
    "train_path = 'data/train/'\n",
    "val_path = 'data/val/'\n",
    "test_path = 'data/test/'"
   ]
  },
  {
   "cell_type": "markdown",
   "id": "1f2a25c9",
   "metadata": {},
   "source": [
    "Lets take a peek on what the txt data looks like"
   ]
  },
  {
   "cell_type": "code",
   "execution_count": 9,
   "id": "2f1578dd",
   "metadata": {
    "scrolled": true
   },
   "outputs": [
    {
     "name": "stdout",
     "output_type": "stream",
     "text": [
      "['image label\\n', 'test/image_189342.jpg 0\\n', 'test/image_145102.jpg 0\\n', 'test/image_31546.jpg 0\\n', 'test/image_441280.jpg 1\\n']\n"
     ]
    }
   ],
   "source": [
    "print([i for i in open(testlabel,'r')][:5])"
   ]
  },
  {
   "cell_type": "markdown",
   "id": "f2419389",
   "metadata": {},
   "source": [
    "### The text split function read the txt line by line then use string slicing to make the file name the key and indexing to take the label as it value according to the filename"
   ]
  },
  {
   "cell_type": "code",
   "execution_count": 4,
   "id": "fae67bc4",
   "metadata": {},
   "outputs": [],
   "source": [
    "def textsplit(x):\n",
    "    l = dict()\n",
    "    for i in open(x, 'r'):\n",
    "        slash = i.find('/')+1\n",
    "        key = i[slash:-3]\n",
    "        l[key] = i[-2]\n",
    "    return l"
   ]
  },
  {
   "cell_type": "markdown",
   "id": "b8d3fd29",
   "metadata": {},
   "source": [
    "Apply the function to the train,val and test label transforming it to dictionary"
   ]
  },
  {
   "cell_type": "code",
   "execution_count": 5,
   "id": "dce200ca",
   "metadata": {},
   "outputs": [],
   "source": [
    "trainlabel = textsplit(trainlabel)\n",
    "testlabel = textsplit(testlabel)\n",
    "vallabel = textsplit(vallabel)"
   ]
  },
  {
   "cell_type": "markdown",
   "id": "169125fe",
   "metadata": {},
   "source": [
    "#### The binarylabelfile function create 2 new folders called negative and positive to prepare the data into it specific label and correct format for image generator "
   ]
  },
  {
   "cell_type": "code",
   "execution_count": 6,
   "id": "4e2dee2f",
   "metadata": {},
   "outputs": [],
   "source": [
    "def binarylabelfile(path):\n",
    "    try:\n",
    "        os.mkdir(path+'/negative')\n",
    "        os.mkdir(path+'/positive')\n",
    "    except:\n",
    "        print('File already existed')"
   ]
  },
  {
   "cell_type": "markdown",
   "id": "0db9e788",
   "metadata": {},
   "source": [
    "Apply the function on every path to create the folder"
   ]
  },
  {
   "cell_type": "code",
   "execution_count": 7,
   "id": "8e993f78",
   "metadata": {},
   "outputs": [
    {
     "name": "stdout",
     "output_type": "stream",
     "text": [
      "File already existed\n",
      "File already existed\n",
      "File already existed\n"
     ]
    }
   ],
   "source": [
    "binarylabelfile(train_path)\n",
    "binarylabelfile(val_path)\n",
    "binarylabelfile(test_path)"
   ]
  },
  {
   "cell_type": "markdown",
   "id": "23be86a2",
   "metadata": {},
   "source": [
    "#### Movetolabel function move imagefile to it category(postive/negative) by using the label dictionary"
   ]
  },
  {
   "cell_type": "code",
   "execution_count": 8,
   "id": "15229504",
   "metadata": {},
   "outputs": [],
   "source": [
    "def movetolabel(path,label):\n",
    "    posneg = {'0':'negative/', '1':'positive/'}\n",
    "    for i in os.listdir(path):\n",
    "        try:\n",
    "            result= posneg[label[i]]\n",
    "            move(path+i,path+result)\n",
    "        except:\n",
    "            if i[-3:]=='jpg':\n",
    "                os.remove(path+i)"
   ]
  },
  {
   "cell_type": "markdown",
   "id": "6a182312",
   "metadata": {},
   "source": [
    "Apply the function to every path to categorize every path to its category"
   ]
  },
  {
   "cell_type": "code",
   "execution_count": 9,
   "id": "5446337e",
   "metadata": {},
   "outputs": [],
   "source": [
    "movetolabel(test_path,testlabel)\n",
    "movetolabel(train_path,trainlabel)\n",
    "movetolabel(val_path,vallabel)"
   ]
  },
  {
   "cell_type": "markdown",
   "id": "0b722517",
   "metadata": {},
   "source": [
    "### Lets decide on the image size by using the average sum of each dimension"
   ]
  },
  {
   "cell_type": "code",
   "execution_count": 10,
   "id": "073ed45e",
   "metadata": {},
   "outputs": [],
   "source": [
    "dim1 = []\n",
    "dim2 = []\n",
    "for i in os.listdir(test_path+'positive/'):\n",
    "    d1,d2 = plt.imread(test_path+'positive/'+i).shape\n",
    "    dim1.append(d1)\n",
    "    dim2.append(d2)"
   ]
  },
  {
   "cell_type": "markdown",
   "id": "fff9801d",
   "metadata": {},
   "source": [
    "### the jointplot shows as that all dim1 and dim2 of the images are all 50x50"
   ]
  },
  {
   "cell_type": "code",
   "execution_count": 11,
   "id": "d0962ee0",
   "metadata": {},
   "outputs": [
    {
     "data": {
      "text/plain": [
       "<seaborn.axisgrid.JointGrid at 0x106cb2250>"
      ]
     },
     "execution_count": 11,
     "metadata": {},
     "output_type": "execute_result"
    },
    {
     "data": {
      "image/png": "[encoded data removed]",
      "text/plain": [
       "<Figure size 432x432 with 3 Axes>"
      ]
     },
     "metadata": {
      "needs_background": "light"
     },
     "output_type": "display_data"
    }
   ],
   "source": [
    "sns.jointplot(x = dim1, y=dim2)"
   ]
  },
  {
   "cell_type": "code",
   "execution_count": 12,
   "id": "f79b9f5a",
   "metadata": {},
   "outputs": [
    {
     "data": {
      "text/plain": [
       "50.0"
      ]
     },
     "execution_count": 12,
     "metadata": {},
     "output_type": "execute_result"
    }
   ],
   "source": [
    "np.mean(dim1)"
   ]
  },
  {
   "cell_type": "code",
   "execution_count": 13,
   "id": "b46f6bea",
   "metadata": {},
   "outputs": [
    {
     "data": {
      "text/plain": [
       "50.0"
      ]
     },
     "execution_count": 13,
     "metadata": {},
     "output_type": "execute_result"
    }
   ],
   "source": [
    "np.mean(dim2)"
   ]
  },
  {
   "cell_type": "markdown",
   "id": "b50c019e",
   "metadata": {},
   "source": [
    "### The input shape for our model"
   ]
  },
  {
   "cell_type": "code",
   "execution_count": 14,
   "id": "2062a488",
   "metadata": {},
   "outputs": [],
   "source": [
    "image_shape = (50,50,3)"
   ]
  },
  {
   "cell_type": "markdown",
   "id": "b4708b3d",
   "metadata": {},
   "source": [
    "# Modelling\n",
    "\n",
    "for modelling, lets use the imagedatagenerator module with rescale parameter to rescale/ standardize the data, set dtype to float and according to the paper we are usign zoom 0.2 and horizontal flip."
   ]
  },
  {
   "cell_type": "code",
   "execution_count": 15,
   "id": "917c273c",
   "metadata": {},
   "outputs": [],
   "source": [
    "image_gen = ImageDataGenerator(rescale=1/255.0,dtype='float', zoom_range=0.2, horizontal_flip=True)"
   ]
  },
  {
   "cell_type": "markdown",
   "id": "2e14a447",
   "metadata": {},
   "source": [
    "#### Identifying the batch size( we will use batch_size of 32 accordingly to the study conducted)"
   ]
  },
  {
   "cell_type": "code",
   "execution_count": 16,
   "id": "4e4655b9",
   "metadata": {},
   "outputs": [],
   "source": [
    "batch_size = 32"
   ]
  },
  {
   "cell_type": "markdown",
   "id": "6b88c6db",
   "metadata": {},
   "source": [
    "##### Setting the learning rate of 0.0001"
   ]
  },
  {
   "cell_type": "code",
   "execution_count": 17,
   "id": "7bbf974d",
   "metadata": {},
   "outputs": [],
   "source": [
    "lr = 0.0001"
   ]
  },
  {
   "cell_type": "markdown",
   "id": "1ae46dff",
   "metadata": {},
   "source": [
    "##### Create generator from directory forming 3 generator from train, test and val path but change the color mode to rgb since imagenet on transfer learning requires 3 channel "
   ]
  },
  {
   "cell_type": "code",
   "execution_count": 18,
   "id": "32e78013",
   "metadata": {},
   "outputs": [
    {
     "name": "stdout",
     "output_type": "stream",
     "text": [
      "Found 5199 images belonging to 2 classes.\n",
      "Found 1298 images belonging to 2 classes.\n",
      "Found 1624 images belonging to 2 classes.\n"
     ]
    }
   ],
   "source": [
    "train_gen = image_gen.flow_from_directory(train_path,target_size = image_shape[:2],color_mode='rgb', batch_size=batch_size,shuffle=True,class_mode ='binary')\n",
    "val_gen  = image_gen.flow_from_directory(val_path, target_size = image_shape[:2],color_mode='rgb', batch_size=batch_size,shuffle=True,class_mode ='binary')\n",
    "test_gen = image_gen.flow_from_directory(test_path , target_size = image_shape[:2],color_mode='rgb', batch_size=batch_size,shuffle=False,class_mode ='binary')"
   ]
  },
  {
   "cell_type": "markdown",
   "id": "1c618920",
   "metadata": {},
   "source": [
    "###### Train_gen has two classes same as the file name we structure for the generator path"
   ]
  },
  {
   "cell_type": "code",
   "execution_count": 19,
   "id": "8d10e57f",
   "metadata": {},
   "outputs": [
    {
     "data": {
      "text/plain": [
       "{'negative': 0, 'positive': 1}"
      ]
     },
     "execution_count": 19,
     "metadata": {},
     "output_type": "execute_result"
    }
   ],
   "source": [
    "train_gen.class_indices"
   ]
  },
  {
   "cell_type": "markdown",
   "id": "7fd9d1e3",
   "metadata": {},
   "source": [
    "##### Importing the vgg16, vgg19 and resnet50 architectures from keras.applications"
   ]
  },
  {
   "cell_type": "code",
   "execution_count": 20,
   "id": "2210e6ed",
   "metadata": {},
   "outputs": [
    {
     "name": "stderr",
     "output_type": "stream",
     "text": [
      "2022-03-09 15:32:29.372275: I tensorflow/core/common_runtime/pluggable_device/pluggable_device_factory.cc:305] Could not identify NUMA node of platform GPU ID 0, defaulting to 0. Your kernel may not have been built with NUMA support.\n",
      "2022-03-09 15:32:29.372406: I tensorflow/core/common_runtime/pluggable_device/pluggable_device_factory.cc:271] Created TensorFlow device (/job:localhost/replica:0/task:0/device:GPU:0 with 0 MB memory) -> physical PluggableDevice (device: 0, name: METAL, pci bus id: <undefined>)\n"
     ]
    },
    {
     "name": "stdout",
     "output_type": "stream",
     "text": [
      "Metal device set to: Apple M1 Max\n",
      "Downloading data from https://storage.googleapis.com/tensorflow/keras-applications/vgg19/vgg19_weights_tf_dim_ordering_tf_kernels_notop.h5\n",
      "80142336/80134624 [==============================] - 29s 0us/step\n",
      "80150528/80134624 [==============================] - 29s 0us/step\n",
      "Downloading data from https://storage.googleapis.com/tensorflow/keras-applications/resnet/resnet50_weights_tf_dim_ordering_tf_kernels_notop.h5\n",
      "94773248/94765736 [==============================] - 28s 0us/step\n",
      "94781440/94765736 [==============================] - 28s 0us/step\n"
     ]
    }
   ],
   "source": [
    "from tensorflow.keras.applications import VGG16,VGG19,ResNet50\n",
    "pretrain_vgg16  = VGG16( include_top=False,weights='imagenet', input_shape=image_shape)\n",
    "pretrain_vgg19 = VGG19( include_top=False,weights = 'imagenet', input_shape=image_shape)\n",
    "pretrain_resnet50 = ResNet50( include_top=False,weights='imagenet', input_shape=image_shape)"
   ]
  },
  {
   "cell_type": "markdown",
   "id": "9d7517d1",
   "metadata": {},
   "source": [
    "##### Summary of vgg16 architecture"
   ]
  },
  {
   "cell_type": "code",
   "execution_count": 21,
   "id": "8b5783ab",
   "metadata": {},
   "outputs": [
    {
     "name": "stdout",
     "output_type": "stream",
     "text": [
      "Model: \"vgg16\"\n",
      "_________________________________________________________________\n",
      " Layer (type)                Output Shape              Param #   \n",
      "=================================================================\n",
      " input_1 (InputLayer)        [(None, 50, 50, 3)]       0         \n",
      "                                                                 \n",
      " block1_conv1 (Conv2D)       (None, 50, 50, 64)        1792      \n",
      "                                                                 \n",
      " block1_conv2 (Conv2D)       (None, 50, 50, 64)        36928     \n",
      "                                                                 \n",
      " block1_pool (MaxPooling2D)  (None, 25, 25, 64)        0         \n",
      "                                                                 \n",
      " block2_conv1 (Conv2D)       (None, 25, 25, 128)       73856     \n",
      "                                                                 \n",
      " block2_conv2 (Conv2D)       (None, 25, 25, 128)       147584    \n",
      "                                                                 \n",
      " block2_pool (MaxPooling2D)  (None, 12, 12, 128)       0         \n",
      "                                                                 \n",
      " block3_conv1 (Conv2D)       (None, 12, 12, 256)       295168    \n",
      "                                                                 \n",
      " block3_conv2 (Conv2D)       (None, 12, 12, 256)       590080    \n",
      "                                                                 \n",
      " block3_conv3 (Conv2D)       (None, 12, 12, 256)       590080    \n",
      "                                                                 \n",
      " block3_pool (MaxPooling2D)  (None, 6, 6, 256)         0         \n",
      "                                                                 \n",
      " block4_conv1 (Conv2D)       (None, 6, 6, 512)         1180160   \n",
      "                                                                 \n",
      " block4_conv2 (Conv2D)       (None, 6, 6, 512)         2359808   \n",
      "                                                                 \n",
      " block4_conv3 (Conv2D)       (None, 6, 6, 512)         2359808   \n",
      "                                                                 \n",
      " block4_pool (MaxPooling2D)  (None, 3, 3, 512)         0         \n",
      "                                                                 \n",
      " block5_conv1 (Conv2D)       (None, 3, 3, 512)         2359808   \n",
      "                                                                 \n",
      " block5_conv2 (Conv2D)       (None, 3, 3, 512)         2359808   \n",
      "                                                                 \n",
      " block5_conv3 (Conv2D)       (None, 3, 3, 512)         2359808   \n",
      "                                                                 \n",
      " block5_pool (MaxPooling2D)  (None, 1, 1, 512)         0         \n",
      "                                                                 \n",
      "=================================================================\n",
      "Total params: 14,714,688\n",
      "Trainable params: 14,714,688\n",
      "Non-trainable params: 0\n",
      "_________________________________________________________________\n"
     ]
    }
   ],
   "source": [
    "pretrain_vgg16.summary()"
   ]
  },
  {
   "cell_type": "markdown",
   "id": "0cd20a52",
   "metadata": {},
   "source": [
    "##### summary of vgg19 architecture"
   ]
  },
  {
   "cell_type": "code",
   "execution_count": 22,
   "id": "9d47c80f",
   "metadata": {},
   "outputs": [
    {
     "name": "stdout",
     "output_type": "stream",
     "text": [
      "Model: \"vgg19\"\n",
      "_________________________________________________________________\n",
      " Layer (type)                Output Shape              Param #   \n",
      "=================================================================\n",
      " input_2 (InputLayer)        [(None, 50, 50, 3)]       0         \n",
      "                                                                 \n",
      " block1_conv1 (Conv2D)       (None, 50, 50, 64)        1792      \n",
      "                                                                 \n",
      " block1_conv2 (Conv2D)       (None, 50, 50, 64)        36928     \n",
      "                                                                 \n",
      " block1_pool (MaxPooling2D)  (None, 25, 25, 64)        0         \n",
      "                                                                 \n",
      " block2_conv1 (Conv2D)       (None, 25, 25, 128)       73856     \n",
      "                                                                 \n",
      " block2_conv2 (Conv2D)       (None, 25, 25, 128)       147584    \n",
      "                                                                 \n",
      " block2_pool (MaxPooling2D)  (None, 12, 12, 128)       0         \n",
      "                                                                 \n",
      " block3_conv1 (Conv2D)       (None, 12, 12, 256)       295168    \n",
      "                                                                 \n",
      " block3_conv2 (Conv2D)       (None, 12, 12, 256)       590080    \n",
      "                                                                 \n",
      " block3_conv3 (Conv2D)       (None, 12, 12, 256)       590080    \n",
      "                                                                 \n",
      " block3_conv4 (Conv2D)       (None, 12, 12, 256)       590080    \n",
      "                                                                 \n",
      " block3_pool (MaxPooling2D)  (None, 6, 6, 256)         0         \n",
      "                                                                 \n",
      " block4_conv1 (Conv2D)       (None, 6, 6, 512)         1180160   \n",
      "                                                                 \n",
      " block4_conv2 (Conv2D)       (None, 6, 6, 512)         2359808   \n",
      "                                                                 \n",
      " block4_conv3 (Conv2D)       (None, 6, 6, 512)         2359808   \n",
      "                                                                 \n",
      " block4_conv4 (Conv2D)       (None, 6, 6, 512)         2359808   \n",
      "                                                                 \n",
      " block4_pool (MaxPooling2D)  (None, 3, 3, 512)         0         \n",
      "                                                                 \n",
      " block5_conv1 (Conv2D)       (None, 3, 3, 512)         2359808   \n",
      "                                                                 \n",
      " block5_conv2 (Conv2D)       (None, 3, 3, 512)         2359808   \n",
      "                                                                 \n",
      " block5_conv3 (Conv2D)       (None, 3, 3, 512)         2359808   \n",
      "                                                                 \n",
      " block5_conv4 (Conv2D)       (None, 3, 3, 512)         2359808   \n",
      "                                                                 \n",
      " block5_pool (MaxPooling2D)  (None, 1, 1, 512)         0         \n",
      "                                                                 \n",
      "=================================================================\n",
      "Total params: 20,024,384\n",
      "Trainable params: 20,024,384\n",
      "Non-trainable params: 0\n",
      "_________________________________________________________________\n"
     ]
    }
   ],
   "source": [
    "pretrain_vgg19.summary()"
   ]
  },
  {
   "cell_type": "markdown",
   "id": "25bdc968",
   "metadata": {},
   "source": [
    "#### summary of resnet50 architecture"
   ]
  },
  {
   "cell_type": "code",
   "execution_count": 23,
   "id": "59d8f7c5",
   "metadata": {},
   "outputs": [
    {
     "name": "stdout",
     "output_type": "stream",
     "text": [
      "Model: \"resnet50\"\n",
      "__________________________________________________________________________________________________\n",
      " Layer (type)                   Output Shape         Param #     Connected to                     \n",
      "==================================================================================================\n",
      " input_3 (InputLayer)           [(None, 50, 50, 3)]  0           []                               \n",
      "                                                                                                  \n",
      " conv1_pad (ZeroPadding2D)      (None, 56, 56, 3)    0           ['input_3[0][0]']                \n",
      "                                                                                                  \n",
      " conv1_conv (Conv2D)            (None, 25, 25, 64)   9472        ['conv1_pad[0][0]']              \n",
      "                                                                                                  \n",
      " conv1_bn (BatchNormalization)  (None, 25, 25, 64)   256         ['conv1_conv[0][0]']             \n",
      "                                                                                                  \n",
      " conv1_relu (Activation)        (None, 25, 25, 64)   0           ['conv1_bn[0][0]']               \n",
      "                                                                                                  \n",
      " pool1_pad (ZeroPadding2D)      (None, 27, 27, 64)   0           ['conv1_relu[0][0]']             \n",
      "                                                                                                  \n",
      " pool1_pool (MaxPooling2D)      (None, 13, 13, 64)   0           ['pool1_pad[0][0]']              \n",
      "                                                                                                  \n",
      " conv2_block1_1_conv (Conv2D)   (None, 13, 13, 64)   4160        ['pool1_pool[0][0]']             \n",
      "                                                                                                  \n",
      " conv2_block1_1_bn (BatchNormal  (None, 13, 13, 64)  256         ['conv2_block1_1_conv[0][0]']    \n",
      " ization)                                                                                         \n",
      "                                                                                                  \n",
      " conv2_block1_1_relu (Activatio  (None, 13, 13, 64)  0           ['conv2_block1_1_bn[0][0]']      \n",
      " n)                                                                                               \n",
      "                                                                                                  \n",
      " conv2_block1_2_conv (Conv2D)   (None, 13, 13, 64)   36928       ['conv2_block1_1_relu[0][0]']    \n",
      "                                                                                                  \n",
      " conv2_block1_2_bn (BatchNormal  (None, 13, 13, 64)  256         ['conv2_block1_2_conv[0][0]']    \n",
      " ization)                                                                                         \n",
      "                                                                                                  \n",
      " conv2_block1_2_relu (Activatio  (None, 13, 13, 64)  0           ['conv2_block1_2_bn[0][0]']      \n",
      " n)                                                                                               \n",
      "                                                                                                  \n",
      " conv2_block1_0_conv (Conv2D)   (None, 13, 13, 256)  16640       ['pool1_pool[0][0]']             \n",
      "                                                                                                  \n",
      " conv2_block1_3_conv (Conv2D)   (None, 13, 13, 256)  16640       ['conv2_block1_2_relu[0][0]']    \n",
      "                                                                                                  \n",
      " conv2_block1_0_bn (BatchNormal  (None, 13, 13, 256)  1024       ['conv2_block1_0_conv[0][0]']    \n",
      " ization)                                                                                         \n",
      "                                                                                                  \n",
      " conv2_block1_3_bn (BatchNormal  (None, 13, 13, 256)  1024       ['conv2_block1_3_conv[0][0]']    \n",
      " ization)                                                                                         \n",
      "                                                                                                  \n",
      " conv2_block1_add (Add)         (None, 13, 13, 256)  0           ['conv2_block1_0_bn[0][0]',      \n",
      "                                                                  'conv2_block1_3_bn[0][0]']      \n",
      "                                                                                                  \n",
      " conv2_block1_out (Activation)  (None, 13, 13, 256)  0           ['conv2_block1_add[0][0]']       \n",
      "                                                                                                  \n",
      " conv2_block2_1_conv (Conv2D)   (None, 13, 13, 64)   16448       ['conv2_block1_out[0][0]']       \n",
      "                                                                                                  \n",
      " conv2_block2_1_bn (BatchNormal  (None, 13, 13, 64)  256         ['conv2_block2_1_conv[0][0]']    \n",
      " ization)                                                                                         \n",
      "                                                                                                  \n",
      " conv2_block2_1_relu (Activatio  (None, 13, 13, 64)  0           ['conv2_block2_1_bn[0][0]']      \n",
      " n)                                                                                               \n",
      "                                                                                                  \n",
      " conv2_block2_2_conv (Conv2D)   (None, 13, 13, 64)   36928       ['conv2_block2_1_relu[0][0]']    \n",
      "                                                                                                  \n",
      " conv2_block2_2_bn (BatchNormal  (None, 13, 13, 64)  256         ['conv2_block2_2_conv[0][0]']    \n",
      " ization)                                                                                         \n",
      "                                                                                                  \n",
      " conv2_block2_2_relu (Activatio  (None, 13, 13, 64)  0           ['conv2_block2_2_bn[0][0]']      \n",
      " n)                                                                                               \n",
      "                                                                                                  \n",
      " conv2_block2_3_conv (Conv2D)   (None, 13, 13, 256)  16640       ['conv2_block2_2_relu[0][0]']    \n",
      "                                                                                                  \n",
      " conv2_block2_3_bn (BatchNormal  (None, 13, 13, 256)  1024       ['conv2_block2_3_conv[0][0]']    \n",
      " ization)                                                                                         \n",
      "                                                                                                  \n",
      " conv2_block2_add (Add)         (None, 13, 13, 256)  0           ['conv2_block1_out[0][0]',       \n",
      "                                                                  'conv2_block2_3_bn[0][0]']      \n",
      "                                                                                                  \n",
      " conv2_block2_out (Activation)  (None, 13, 13, 256)  0           ['conv2_block2_add[0][0]']       \n",
      "                                                                                                  \n",
      " conv2_block3_1_conv (Conv2D)   (None, 13, 13, 64)   16448       ['conv2_block2_out[0][0]']       \n",
      "                                                                                                  \n",
      " conv2_block3_1_bn (BatchNormal  (None, 13, 13, 64)  256         ['conv2_block3_1_conv[0][0]']    \n",
      " ization)                                                                                         \n",
      "                                                                                                  \n",
      " conv2_block3_1_relu (Activatio  (None, 13, 13, 64)  0           ['conv2_block3_1_bn[0][0]']      \n",
      " n)                                                                                               \n",
      "                                                                                                  \n",
      " conv2_block3_2_conv (Conv2D)   (None, 13, 13, 64)   36928       ['conv2_block3_1_relu[0][0]']    \n",
      "                                                                                                  \n",
      " conv2_block3_2_bn (BatchNormal  (None, 13, 13, 64)  256         ['conv2_block3_2_conv[0][0]']    \n",
      " ization)                                                                                         \n",
      "                                                                                                  \n",
      " conv2_block3_2_relu (Activatio  (None, 13, 13, 64)  0           ['conv2_block3_2_bn[0][0]']      \n",
      " n)                                                                                               \n",
      "                                                                                                  \n",
      " conv2_block3_3_conv (Conv2D)   (None, 13, 13, 256)  16640       ['conv2_block3_2_relu[0][0]']    \n",
      "                                                                                                  \n",
      " conv2_block3_3_bn (BatchNormal  (None, 13, 13, 256)  1024       ['conv2_block3_3_conv[0][0]']    \n",
      " ization)                                                                                         \n",
      "                                                                                                  \n",
      " conv2_block3_add (Add)         (None, 13, 13, 256)  0           ['conv2_block2_out[0][0]',       \n",
      "                                                                  'conv2_block3_3_bn[0][0]']      \n",
      "                                                                                                  \n",
      " conv2_block3_out (Activation)  (None, 13, 13, 256)  0           ['conv2_block3_add[0][0]']       \n",
      "                                                                                                  \n",
      " conv3_block1_1_conv (Conv2D)   (None, 7, 7, 128)    32896       ['conv2_block3_out[0][0]']       \n",
      "                                                                                                  \n",
      " conv3_block1_1_bn (BatchNormal  (None, 7, 7, 128)   512         ['conv3_block1_1_conv[0][0]']    \n",
      " ization)                                                                                         \n",
      "                                                                                                  \n",
      " conv3_block1_1_relu (Activatio  (None, 7, 7, 128)   0           ['conv3_block1_1_bn[0][0]']      \n",
      " n)                                                                                               \n",
      "                                                                                                  \n",
      " conv3_block1_2_conv (Conv2D)   (None, 7, 7, 128)    147584      ['conv3_block1_1_relu[0][0]']    \n",
      "                                                                                                  \n",
      " conv3_block1_2_bn (BatchNormal  (None, 7, 7, 128)   512         ['conv3_block1_2_conv[0][0]']    \n",
      " ization)                                                                                         \n",
      "                                                                                                  \n",
      " conv3_block1_2_relu (Activatio  (None, 7, 7, 128)   0           ['conv3_block1_2_bn[0][0]']      \n",
      " n)                                                                                               \n",
      "                                                                                                  \n",
      " conv3_block1_0_conv (Conv2D)   (None, 7, 7, 512)    131584      ['conv2_block3_out[0][0]']       \n",
      "                                                                                                  \n",
      " conv3_block1_3_conv (Conv2D)   (None, 7, 7, 512)    66048       ['conv3_block1_2_relu[0][0]']    \n",
      "                                                                                                  \n",
      " conv3_block1_0_bn (BatchNormal  (None, 7, 7, 512)   2048        ['conv3_block1_0_conv[0][0]']    \n",
      " ization)                                                                                         \n",
      "                                                                                                  \n",
      " conv3_block1_3_bn (BatchNormal  (None, 7, 7, 512)   2048        ['conv3_block1_3_conv[0][0]']    \n",
      " ization)                                                                                         \n",
      "                                                                                                  \n",
      " conv3_block1_add (Add)         (None, 7, 7, 512)    0           ['conv3_block1_0_bn[0][0]',      \n",
      "                                                                  'conv3_block1_3_bn[0][0]']      \n",
      "                                                                                                  \n",
      " conv3_block1_out (Activation)  (None, 7, 7, 512)    0           ['conv3_block1_add[0][0]']       \n",
      "                                                                                                  \n",
      " conv3_block2_1_conv (Conv2D)   (None, 7, 7, 128)    65664       ['conv3_block1_out[0][0]']       \n",
      "                                                                                                  \n",
      " conv3_block2_1_bn (BatchNormal  (None, 7, 7, 128)   512         ['conv3_block2_1_conv[0][0]']    \n",
      " ization)                                                                                         \n",
      "                                                                                                  \n",
      " conv3_block2_1_relu (Activatio  (None, 7, 7, 128)   0           ['conv3_block2_1_bn[0][0]']      \n",
      " n)                                                                                               \n",
      "                                                                                                  \n",
      " conv3_block2_2_conv (Conv2D)   (None, 7, 7, 128)    147584      ['conv3_block2_1_relu[0][0]']    \n",
      "                                                                                                  \n",
      " conv3_block2_2_bn (BatchNormal  (None, 7, 7, 128)   512         ['conv3_block2_2_conv[0][0]']    \n",
      " ization)                                                                                         \n",
      "                                                                                                  \n",
      " conv3_block2_2_relu (Activatio  (None, 7, 7, 128)   0           ['conv3_block2_2_bn[0][0]']      \n",
      " n)                                                                                               \n",
      "                                                                                                  \n",
      " conv3_block2_3_conv (Conv2D)   (None, 7, 7, 512)    66048       ['conv3_block2_2_relu[0][0]']    \n",
      "                                                                                                  \n",
      " conv3_block2_3_bn (BatchNormal  (None, 7, 7, 512)   2048        ['conv3_block2_3_conv[0][0]']    \n",
      " ization)                                                                                         \n",
      "                                                                                                  \n",
      " conv3_block2_add (Add)         (None, 7, 7, 512)    0           ['conv3_block1_out[0][0]',       \n",
      "                                                                  'conv3_block2_3_bn[0][0]']      \n",
      "                                                                                                  \n",
      " conv3_block2_out (Activation)  (None, 7, 7, 512)    0           ['conv3_block2_add[0][0]']       \n",
      "                                                                                                  \n",
      " conv3_block3_1_conv (Conv2D)   (None, 7, 7, 128)    65664       ['conv3_block2_out[0][0]']       \n",
      "                                                                                                  \n",
      " conv3_block3_1_bn (BatchNormal  (None, 7, 7, 128)   512         ['conv3_block3_1_conv[0][0]']    \n",
      " ization)                                                                                         \n",
      "                                                                                                  \n",
      " conv3_block3_1_relu (Activatio  (None, 7, 7, 128)   0           ['conv3_block3_1_bn[0][0]']      \n",
      " n)                                                                                               \n",
      "                                                                                                  \n",
      " conv3_block3_2_conv (Conv2D)   (None, 7, 7, 128)    147584      ['conv3_block3_1_relu[0][0]']    \n",
      "                                                                                                  \n",
      " conv3_block3_2_bn (BatchNormal  (None, 7, 7, 128)   512         ['conv3_block3_2_conv[0][0]']    \n",
      " ization)                                                                                         \n",
      "                                                                                                  \n",
      " conv3_block3_2_relu (Activatio  (None, 7, 7, 128)   0           ['conv3_block3_2_bn[0][0]']      \n",
      " n)                                                                                               \n",
      "                                                                                                  \n",
      " conv3_block3_3_conv (Conv2D)   (None, 7, 7, 512)    66048       ['conv3_block3_2_relu[0][0]']    \n",
      "                                                                                                  \n",
      " conv3_block3_3_bn (BatchNormal  (None, 7, 7, 512)   2048        ['conv3_block3_3_conv[0][0]']    \n",
      " ization)                                                                                         \n",
      "                                                                                                  \n",
      " conv3_block3_add (Add)         (None, 7, 7, 512)    0           ['conv3_block2_out[0][0]',       \n",
      "                                                                  'conv3_block3_3_bn[0][0]']      \n",
      "                                                                                                  \n",
      " conv3_block3_out (Activation)  (None, 7, 7, 512)    0           ['conv3_block3_add[0][0]']       \n",
      "                                                                                                  \n",
      " conv3_block4_1_conv (Conv2D)   (None, 7, 7, 128)    65664       ['conv3_block3_out[0][0]']       \n",
      "                                                                                                  \n",
      " conv3_block4_1_bn (BatchNormal  (None, 7, 7, 128)   512         ['conv3_block4_1_conv[0][0]']    \n",
      " ization)                                                                                         \n",
      "                                                                                                  \n",
      " conv3_block4_1_relu (Activatio  (None, 7, 7, 128)   0           ['conv3_block4_1_bn[0][0]']      \n",
      " n)                                                                                               \n",
      "                                                                                                  \n",
      " conv3_block4_2_conv (Conv2D)   (None, 7, 7, 128)    147584      ['conv3_block4_1_relu[0][0]']    \n",
      "                                                                                                  \n",
      " conv3_block4_2_bn (BatchNormal  (None, 7, 7, 128)   512         ['conv3_block4_2_conv[0][0]']    \n",
      " ization)                                                                                         \n",
      "                                                                                                  \n",
      " conv3_block4_2_relu (Activatio  (None, 7, 7, 128)   0           ['conv3_block4_2_bn[0][0]']      \n",
      " n)                                                                                               \n",
      "                                                                                                  \n",
      " conv3_block4_3_conv (Conv2D)   (None, 7, 7, 512)    66048       ['conv3_block4_2_relu[0][0]']    \n",
      "                                                                                                  \n",
      " conv3_block4_3_bn (BatchNormal  (None, 7, 7, 512)   2048        ['conv3_block4_3_conv[0][0]']    \n",
      " ization)                                                                                         \n",
      "                                                                                                  \n",
      " conv3_block4_add (Add)         (None, 7, 7, 512)    0           ['conv3_block3_out[0][0]',       \n",
      "                                                                  'conv3_block4_3_bn[0][0]']      \n",
      "                                                                                                  \n",
      " conv3_block4_out (Activation)  (None, 7, 7, 512)    0           ['conv3_block4_add[0][0]']       \n",
      "                                                                                                  \n",
      " conv4_block1_1_conv (Conv2D)   (None, 4, 4, 256)    131328      ['conv3_block4_out[0][0]']       \n",
      "                                                                                                  \n",
      " conv4_block1_1_bn (BatchNormal  (None, 4, 4, 256)   1024        ['conv4_block1_1_conv[0][0]']    \n",
      " ization)                                                                                         \n",
      "                                                                                                  \n",
      " conv4_block1_1_relu (Activatio  (None, 4, 4, 256)   0           ['conv4_block1_1_bn[0][0]']      \n",
      " n)                                                                                               \n",
      "                                                                                                  \n",
      " conv4_block1_2_conv (Conv2D)   (None, 4, 4, 256)    590080      ['conv4_block1_1_relu[0][0]']    \n",
      "                                                                                                  \n",
      " conv4_block1_2_bn (BatchNormal  (None, 4, 4, 256)   1024        ['conv4_block1_2_conv[0][0]']    \n",
      " ization)                                                                                         \n",
      "                                                                                                  \n",
      " conv4_block1_2_relu (Activatio  (None, 4, 4, 256)   0           ['conv4_block1_2_bn[0][0]']      \n",
      " n)                                                                                               \n",
      "                                                                                                  \n",
      " conv4_block1_0_conv (Conv2D)   (None, 4, 4, 1024)   525312      ['conv3_block4_out[0][0]']       \n",
      "                                                                                                  \n",
      " conv4_block1_3_conv (Conv2D)   (None, 4, 4, 1024)   263168      ['conv4_block1_2_relu[0][0]']    \n",
      "                                                                                                  \n",
      " conv4_block1_0_bn (BatchNormal  (None, 4, 4, 1024)  4096        ['conv4_block1_0_conv[0][0]']    \n",
      " ization)                                                                                         \n",
      "                                                                                                  \n",
      " conv4_block1_3_bn (BatchNormal  (None, 4, 4, 1024)  4096        ['conv4_block1_3_conv[0][0]']    \n",
      " ization)                                                                                         \n",
      "                                                                                                  \n",
      " conv4_block1_add (Add)         (None, 4, 4, 1024)   0           ['conv4_block1_0_bn[0][0]',      \n",
      "                                                                  'conv4_block1_3_bn[0][0]']      \n",
      "                                                                                                  \n",
      " conv4_block1_out (Activation)  (None, 4, 4, 1024)   0           ['conv4_block1_add[0][0]']       \n",
      "                                                                                                  \n",
      " conv4_block2_1_conv (Conv2D)   (None, 4, 4, 256)    262400      ['conv4_block1_out[0][0]']       \n",
      "                                                                                                  \n",
      " conv4_block2_1_bn (BatchNormal  (None, 4, 4, 256)   1024        ['conv4_block2_1_conv[0][0]']    \n",
      " ization)                                                                                         \n",
      "                                                                                                  \n",
      " conv4_block2_1_relu (Activatio  (None, 4, 4, 256)   0           ['conv4_block2_1_bn[0][0]']      \n",
      " n)                                                                                               \n",
      "                                                                                                  \n",
      " conv4_block2_2_conv (Conv2D)   (None, 4, 4, 256)    590080      ['conv4_block2_1_relu[0][0]']    \n",
      "                                                                                                  \n",
      " conv4_block2_2_bn (BatchNormal  (None, 4, 4, 256)   1024        ['conv4_block2_2_conv[0][0]']    \n",
      " ization)                                                                                         \n",
      "                                                                                                  \n",
      " conv4_block2_2_relu (Activatio  (None, 4, 4, 256)   0           ['conv4_block2_2_bn[0][0]']      \n",
      " n)                                                                                               \n",
      "                                                                                                  \n",
      " conv4_block2_3_conv (Conv2D)   (None, 4, 4, 1024)   263168      ['conv4_block2_2_relu[0][0]']    \n",
      "                                                                                                  \n",
      " conv4_block2_3_bn (BatchNormal  (None, 4, 4, 1024)  4096        ['conv4_block2_3_conv[0][0]']    \n",
      " ization)                                                                                         \n",
      "                                                                                                  \n",
      " conv4_block2_add (Add)         (None, 4, 4, 1024)   0           ['conv4_block1_out[0][0]',       \n",
      "                                                                  'conv4_block2_3_bn[0][0]']      \n",
      "                                                                                                  \n",
      " conv4_block2_out (Activation)  (None, 4, 4, 1024)   0           ['conv4_block2_add[0][0]']       \n",
      "                                                                                                  \n",
      " conv4_block3_1_conv (Conv2D)   (None, 4, 4, 256)    262400      ['conv4_block2_out[0][0]']       \n",
      "                                                                                                  \n",
      " conv4_block3_1_bn (BatchNormal  (None, 4, 4, 256)   1024        ['conv4_block3_1_conv[0][0]']    \n",
      " ization)                                                                                         \n",
      "                                                                                                  \n",
      " conv4_block3_1_relu (Activatio  (None, 4, 4, 256)   0           ['conv4_block3_1_bn[0][0]']      \n",
      " n)                                                                                               \n",
      "                                                                                                  \n",
      " conv4_block3_2_conv (Conv2D)   (None, 4, 4, 256)    590080      ['conv4_block3_1_relu[0][0]']    \n",
      "                                                                                                  \n",
      " conv4_block3_2_bn (BatchNormal  (None, 4, 4, 256)   1024        ['conv4_block3_2_conv[0][0]']    \n",
      " ization)                                                                                         \n",
      "                                                                                                  \n",
      " conv4_block3_2_relu (Activatio  (None, 4, 4, 256)   0           ['conv4_block3_2_bn[0][0]']      \n",
      " n)                                                                                               \n",
      "                                                                                                  \n",
      " conv4_block3_3_conv (Conv2D)   (None, 4, 4, 1024)   263168      ['conv4_block3_2_relu[0][0]']    \n",
      "                                                                                                  \n",
      " conv4_block3_3_bn (BatchNormal  (None, 4, 4, 1024)  4096        ['conv4_block3_3_conv[0][0]']    \n",
      " ization)                                                                                         \n",
      "                                                                                                  \n",
      " conv4_block3_add (Add)         (None, 4, 4, 1024)   0           ['conv4_block2_out[0][0]',       \n",
      "                                                                  'conv4_block3_3_bn[0][0]']      \n",
      "                                                                                                  \n",
      " conv4_block3_out (Activation)  (None, 4, 4, 1024)   0           ['conv4_block3_add[0][0]']       \n",
      "                                                                                                  \n",
      " conv4_block4_1_conv (Conv2D)   (None, 4, 4, 256)    262400      ['conv4_block3_out[0][0]']       \n",
      "                                                                                                  \n",
      " conv4_block4_1_bn (BatchNormal  (None, 4, 4, 256)   1024        ['conv4_block4_1_conv[0][0]']    \n",
      " ization)                                                                                         \n",
      "                                                                                                  \n",
      " conv4_block4_1_relu (Activatio  (None, 4, 4, 256)   0           ['conv4_block4_1_bn[0][0]']      \n",
      " n)                                                                                               \n",
      "                                                                                                  \n",
      " conv4_block4_2_conv (Conv2D)   (None, 4, 4, 256)    590080      ['conv4_block4_1_relu[0][0]']    \n",
      "                                                                                                  \n",
      " conv4_block4_2_bn (BatchNormal  (None, 4, 4, 256)   1024        ['conv4_block4_2_conv[0][0]']    \n",
      " ization)                                                                                         \n",
      "                                                                                                  \n",
      " conv4_block4_2_relu (Activatio  (None, 4, 4, 256)   0           ['conv4_block4_2_bn[0][0]']      \n",
      " n)                                                                                               \n",
      "                                                                                                  \n",
      " conv4_block4_3_conv (Conv2D)   (None, 4, 4, 1024)   263168      ['conv4_block4_2_relu[0][0]']    \n",
      "                                                                                                  \n",
      " conv4_block4_3_bn (BatchNormal  (None, 4, 4, 1024)  4096        ['conv4_block4_3_conv[0][0]']    \n",
      " ization)                                                                                         \n",
      "                                                                                                  \n",
      " conv4_block4_add (Add)         (None, 4, 4, 1024)   0           ['conv4_block3_out[0][0]',       \n",
      "                                                                  'conv4_block4_3_bn[0][0]']      \n",
      "                                                                                                  \n",
      " conv4_block4_out (Activation)  (None, 4, 4, 1024)   0           ['conv4_block4_add[0][0]']       \n",
      "                                                                                                  \n",
      " conv4_block5_1_conv (Conv2D)   (None, 4, 4, 256)    262400      ['conv4_block4_out[0][0]']       \n",
      "                                                                                                  \n",
      " conv4_block5_1_bn (BatchNormal  (None, 4, 4, 256)   1024        ['conv4_block5_1_conv[0][0]']    \n",
      " ization)                                                                                         \n",
      "                                                                                                  \n",
      " conv4_block5_1_relu (Activatio  (None, 4, 4, 256)   0           ['conv4_block5_1_bn[0][0]']      \n",
      " n)                                                                                               \n",
      "                                                                                                  \n",
      " conv4_block5_2_conv (Conv2D)   (None, 4, 4, 256)    590080      ['conv4_block5_1_relu[0][0]']    \n",
      "                                                                                                  \n",
      " conv4_block5_2_bn (BatchNormal  (None, 4, 4, 256)   1024        ['conv4_block5_2_conv[0][0]']    \n",
      " ization)                                                                                         \n",
      "                                                                                                  \n",
      " conv4_block5_2_relu (Activatio  (None, 4, 4, 256)   0           ['conv4_block5_2_bn[0][0]']      \n",
      " n)                                                                                               \n",
      "                                                                                                  \n",
      " conv4_block5_3_conv (Conv2D)   (None, 4, 4, 1024)   263168      ['conv4_block5_2_relu[0][0]']    \n",
      "                                                                                                  \n",
      " conv4_block5_3_bn (BatchNormal  (None, 4, 4, 1024)  4096        ['conv4_block5_3_conv[0][0]']    \n",
      " ization)                                                                                         \n",
      "                                                                                                  \n",
      " conv4_block5_add (Add)         (None, 4, 4, 1024)   0           ['conv4_block4_out[0][0]',       \n",
      "                                                                  'conv4_block5_3_bn[0][0]']      \n",
      "                                                                                                  \n",
      " conv4_block5_out (Activation)  (None, 4, 4, 1024)   0           ['conv4_block5_add[0][0]']       \n",
      "                                                                                                  \n",
      " conv4_block6_1_conv (Conv2D)   (None, 4, 4, 256)    262400      ['conv4_block5_out[0][0]']       \n",
      "                                                                                                  \n",
      " conv4_block6_1_bn (BatchNormal  (None, 4, 4, 256)   1024        ['conv4_block6_1_conv[0][0]']    \n",
      " ization)                                                                                         \n",
      "                                                                                                  \n",
      " conv4_block6_1_relu (Activatio  (None, 4, 4, 256)   0           ['conv4_block6_1_bn[0][0]']      \n",
      " n)                                                                                               \n",
      "                                                                                                  \n",
      " conv4_block6_2_conv (Conv2D)   (None, 4, 4, 256)    590080      ['conv4_block6_1_relu[0][0]']    \n",
      "                                                                                                  \n",
      " conv4_block6_2_bn (BatchNormal  (None, 4, 4, 256)   1024        ['conv4_block6_2_conv[0][0]']    \n",
      " ization)                                                                                         \n",
      "                                                                                                  \n",
      " conv4_block6_2_relu (Activatio  (None, 4, 4, 256)   0           ['conv4_block6_2_bn[0][0]']      \n",
      " n)                                                                                               \n",
      "                                                                                                  \n",
      " conv4_block6_3_conv (Conv2D)   (None, 4, 4, 1024)   263168      ['conv4_block6_2_relu[0][0]']    \n",
      "                                                                                                  \n",
      " conv4_block6_3_bn (BatchNormal  (None, 4, 4, 1024)  4096        ['conv4_block6_3_conv[0][0]']    \n",
      " ization)                                                                                         \n",
      "                                                                                                  \n",
      " conv4_block6_add (Add)         (None, 4, 4, 1024)   0           ['conv4_block5_out[0][0]',       \n",
      "                                                                  'conv4_block6_3_bn[0][0]']      \n",
      "                                                                                                  \n",
      " conv4_block6_out (Activation)  (None, 4, 4, 1024)   0           ['conv4_block6_add[0][0]']       \n",
      "                                                                                                  \n",
      " conv5_block1_1_conv (Conv2D)   (None, 2, 2, 512)    524800      ['conv4_block6_out[0][0]']       \n",
      "                                                                                                  \n",
      " conv5_block1_1_bn (BatchNormal  (None, 2, 2, 512)   2048        ['conv5_block1_1_conv[0][0]']    \n",
      " ization)                                                                                         \n",
      "                                                                                                  \n",
      " conv5_block1_1_relu (Activatio  (None, 2, 2, 512)   0           ['conv5_block1_1_bn[0][0]']      \n",
      " n)                                                                                               \n",
      "                                                                                                  \n",
      " conv5_block1_2_conv (Conv2D)   (None, 2, 2, 512)    2359808     ['conv5_block1_1_relu[0][0]']    \n",
      "                                                                                                  \n",
      " conv5_block1_2_bn (BatchNormal  (None, 2, 2, 512)   2048        ['conv5_block1_2_conv[0][0]']    \n",
      " ization)                                                                                         \n",
      "                                                                                                  \n",
      " conv5_block1_2_relu (Activatio  (None, 2, 2, 512)   0           ['conv5_block1_2_bn[0][0]']      \n",
      " n)                                                                                               \n",
      "                                                                                                  \n",
      " conv5_block1_0_conv (Conv2D)   (None, 2, 2, 2048)   2099200     ['conv4_block6_out[0][0]']       \n",
      "                                                                                                  \n",
      " conv5_block1_3_conv (Conv2D)   (None, 2, 2, 2048)   1050624     ['conv5_block1_2_relu[0][0]']    \n",
      "                                                                                                  \n",
      " conv5_block1_0_bn (BatchNormal  (None, 2, 2, 2048)  8192        ['conv5_block1_0_conv[0][0]']    \n",
      " ization)                                                                                         \n",
      "                                                                                                  \n",
      " conv5_block1_3_bn (BatchNormal  (None, 2, 2, 2048)  8192        ['conv5_block1_3_conv[0][0]']    \n",
      " ization)                                                                                         \n",
      "                                                                                                  \n",
      " conv5_block1_add (Add)         (None, 2, 2, 2048)   0           ['conv5_block1_0_bn[0][0]',      \n",
      "                                                                  'conv5_block1_3_bn[0][0]']      \n",
      "                                                                                                  \n",
      " conv5_block1_out (Activation)  (None, 2, 2, 2048)   0           ['conv5_block1_add[0][0]']       \n",
      "                                                                                                  \n",
      " conv5_block2_1_conv (Conv2D)   (None, 2, 2, 512)    1049088     ['conv5_block1_out[0][0]']       \n",
      "                                                                                                  \n",
      " conv5_block2_1_bn (BatchNormal  (None, 2, 2, 512)   2048        ['conv5_block2_1_conv[0][0]']    \n",
      " ization)                                                                                         \n",
      "                                                                                                  \n",
      " conv5_block2_1_relu (Activatio  (None, 2, 2, 512)   0           ['conv5_block2_1_bn[0][0]']      \n",
      " n)                                                                                               \n",
      "                                                                                                  \n",
      " conv5_block2_2_conv (Conv2D)   (None, 2, 2, 512)    2359808     ['conv5_block2_1_relu[0][0]']    \n",
      "                                                                                                  \n",
      " conv5_block2_2_bn (BatchNormal  (None, 2, 2, 512)   2048        ['conv5_block2_2_conv[0][0]']    \n",
      " ization)                                                                                         \n",
      "                                                                                                  \n",
      " conv5_block2_2_relu (Activatio  (None, 2, 2, 512)   0           ['conv5_block2_2_bn[0][0]']      \n",
      " n)                                                                                               \n",
      "                                                                                                  \n",
      " conv5_block2_3_conv (Conv2D)   (None, 2, 2, 2048)   1050624     ['conv5_block2_2_relu[0][0]']    \n",
      "                                                                                                  \n",
      " conv5_block2_3_bn (BatchNormal  (None, 2, 2, 2048)  8192        ['conv5_block2_3_conv[0][0]']    \n",
      " ization)                                                                                         \n",
      "                                                                                                  \n",
      " conv5_block2_add (Add)         (None, 2, 2, 2048)   0           ['conv5_block1_out[0][0]',       \n",
      "                                                                  'conv5_block2_3_bn[0][0]']      \n",
      "                                                                                                  \n",
      " conv5_block2_out (Activation)  (None, 2, 2, 2048)   0           ['conv5_block2_add[0][0]']       \n",
      "                                                                                                  \n",
      " conv5_block3_1_conv (Conv2D)   (None, 2, 2, 512)    1049088     ['conv5_block2_out[0][0]']       \n",
      "                                                                                                  \n",
      " conv5_block3_1_bn (BatchNormal  (None, 2, 2, 512)   2048        ['conv5_block3_1_conv[0][0]']    \n",
      " ization)                                                                                         \n",
      "                                                                                                  \n",
      " conv5_block3_1_relu (Activatio  (None, 2, 2, 512)   0           ['conv5_block3_1_bn[0][0]']      \n",
      " n)                                                                                               \n",
      "                                                                                                  \n",
      " conv5_block3_2_conv (Conv2D)   (None, 2, 2, 512)    2359808     ['conv5_block3_1_relu[0][0]']    \n",
      "                                                                                                  \n",
      " conv5_block3_2_bn (BatchNormal  (None, 2, 2, 512)   2048        ['conv5_block3_2_conv[0][0]']    \n",
      " ization)                                                                                         \n",
      "                                                                                                  \n",
      " conv5_block3_2_relu (Activatio  (None, 2, 2, 512)   0           ['conv5_block3_2_bn[0][0]']      \n",
      " n)                                                                                               \n",
      "                                                                                                  \n",
      " conv5_block3_3_conv (Conv2D)   (None, 2, 2, 2048)   1050624     ['conv5_block3_2_relu[0][0]']    \n",
      "                                                                                                  \n",
      " conv5_block3_3_bn (BatchNormal  (None, 2, 2, 2048)  8192        ['conv5_block3_3_conv[0][0]']    \n",
      " ization)                                                                                         \n",
      "                                                                                                  \n",
      " conv5_block3_add (Add)         (None, 2, 2, 2048)   0           ['conv5_block2_out[0][0]',       \n",
      "                                                                  'conv5_block3_3_bn[0][0]']      \n",
      "                                                                                                  \n",
      " conv5_block3_out (Activation)  (None, 2, 2, 2048)   0           ['conv5_block3_add[0][0]']       \n",
      "                                                                                                  \n",
      "==================================================================================================\n",
      "Total params: 23,587,712\n",
      "Trainable params: 23,534,592\n",
      "Non-trainable params: 53,120\n",
      "__________________________________________________________________________________________________\n"
     ]
    }
   ],
   "source": [
    "pretrain_resnet50.summary()"
   ]
  },
  {
   "cell_type": "markdown",
   "id": "c94a29d1",
   "metadata": {},
   "source": [
    "###### Creating the CNN model with sequential with pretrain model"
   ]
  },
  {
   "cell_type": "code",
   "execution_count": 24,
   "id": "209a4c5a",
   "metadata": {},
   "outputs": [],
   "source": [
    "model_vgg19 = Sequential()\n",
    "model_vgg16 = Sequential()\n",
    "model_resnet50 = Sequential()"
   ]
  },
  {
   "cell_type": "markdown",
   "id": "f33bb15c",
   "metadata": {},
   "source": [
    "### lets add earlystopping of 20 accordingly to the research"
   ]
  },
  {
   "cell_type": "code",
   "execution_count": 25,
   "id": "15a1c2e1",
   "metadata": {},
   "outputs": [],
   "source": [
    "earlystop = EarlyStopping(monitor='val_loss', patience=20)"
   ]
  },
  {
   "cell_type": "markdown",
   "id": "8d666d5d",
   "metadata": {},
   "source": [
    "### the function below add the pretrain model into the sequential then flatten it insert 3 x stack of dense,batchnormalization and dropout (according to the paper)  then set the output to one neuron with sigmoid as it is a binary classification of positive or negative"
   ]
  },
  {
   "cell_type": "code",
   "execution_count": 26,
   "id": "efc172b1",
   "metadata": {},
   "outputs": [],
   "source": [
    "def output_layeradder(model, pretrain):\n",
    "    model.add(pretrain)\n",
    "    model.add(Flatten())\n",
    "    model.add(Dense(64, activation = 'relu'))\n",
    "    model.add(BatchNormalization())\n",
    "    model.add(Dropout(0.5))\n",
    "    model.add(Dense(64, activation = 'relu'))\n",
    "    model.add(BatchNormalization())\n",
    "    model.add(Dropout(0.5))\n",
    "    model.add(Dense(64, activation = 'relu'))\n",
    "    model.add(BatchNormalization())\n",
    "    model.add(Dropout(0.5))\n",
    "    model.add(Dense(1, activation='sigmoid'))\n",
    "    model.compile(loss = 'binary_crossentropy', optimizer = tf.keras.optimizers.Adam(learning_rate=lr), metrics = ['acc'])"
   ]
  },
  {
   "cell_type": "markdown",
   "id": "782c358e",
   "metadata": {},
   "source": [
    "#### Applying the function to the pretrain architectures this will automatically update the models with flatten and output layer"
   ]
  },
  {
   "cell_type": "code",
   "execution_count": 27,
   "id": "92d0b5be",
   "metadata": {},
   "outputs": [],
   "source": [
    "output_layeradder(model_vgg16, pretrain_vgg16)\n",
    "output_layeradder(model_vgg19, pretrain_vgg19)\n",
    "output_layeradder(model_resnet50, pretrain_resnet50)"
   ]
  },
  {
   "cell_type": "markdown",
   "id": "859501ab",
   "metadata": {},
   "source": [
    "#### summary of all the models after adding the output layer"
   ]
  },
  {
   "cell_type": "code",
   "execution_count": 28,
   "id": "449bb016",
   "metadata": {},
   "outputs": [
    {
     "name": "stdout",
     "output_type": "stream",
     "text": [
      "Model: \"sequential_1\"\n",
      "_________________________________________________________________\n",
      " Layer (type)                Output Shape              Param #   \n",
      "=================================================================\n",
      " vgg16 (Functional)          (None, 1, 1, 512)         14714688  \n",
      "                                                                 \n",
      " flatten (Flatten)           (None, 512)               0         \n",
      "                                                                 \n",
      " dense (Dense)               (None, 64)                32832     \n",
      "                                                                 \n",
      " batch_normalization (BatchN  (None, 64)               256       \n",
      " ormalization)                                                   \n",
      "                                                                 \n",
      " dropout (Dropout)           (None, 64)                0         \n",
      "                                                                 \n",
      " dense_1 (Dense)             (None, 64)                4160      \n",
      "                                                                 \n",
      " batch_normalization_1 (Batc  (None, 64)               256       \n",
      " hNormalization)                                                 \n",
      "                                                                 \n",
      " dropout_1 (Dropout)         (None, 64)                0         \n",
      "                                                                 \n",
      " dense_2 (Dense)             (None, 64)                4160      \n",
      "                                                                 \n",
      " batch_normalization_2 (Batc  (None, 64)               256       \n",
      " hNormalization)                                                 \n",
      "                                                                 \n",
      " dropout_2 (Dropout)         (None, 64)                0         \n",
      "                                                                 \n",
      " dense_3 (Dense)             (None, 1)                 65        \n",
      "                                                                 \n",
      "=================================================================\n",
      "Total params: 14,756,673\n",
      "Trainable params: 14,756,289\n",
      "Non-trainable params: 384\n",
      "_________________________________________________________________\n"
     ]
    }
   ],
   "source": [
    "model_vgg16.summary()"
   ]
  },
  {
   "cell_type": "code",
   "execution_count": 29,
   "id": "90a730cf",
   "metadata": {},
   "outputs": [
    {
     "name": "stdout",
     "output_type": "stream",
     "text": [
      "Model: \"sequential\"\n",
      "_________________________________________________________________\n",
      " Layer (type)                Output Shape              Param #   \n",
      "=================================================================\n",
      " vgg19 (Functional)          (None, 1, 1, 512)         20024384  \n",
      "                                                                 \n",
      " flatten_1 (Flatten)         (None, 512)               0         \n",
      "                                                                 \n",
      " dense_4 (Dense)             (None, 64)                32832     \n",
      "                                                                 \n",
      " batch_normalization_3 (Batc  (None, 64)               256       \n",
      " hNormalization)                                                 \n",
      "                                                                 \n",
      " dropout_3 (Dropout)         (None, 64)                0         \n",
      "                                                                 \n",
      " dense_5 (Dense)             (None, 64)                4160      \n",
      "                                                                 \n",
      " batch_normalization_4 (Batc  (None, 64)               256       \n",
      " hNormalization)                                                 \n",
      "                                                                 \n",
      " dropout_4 (Dropout)         (None, 64)                0         \n",
      "                                                                 \n",
      " dense_6 (Dense)             (None, 64)                4160      \n",
      "                                                                 \n",
      " batch_normalization_5 (Batc  (None, 64)               256       \n",
      " hNormalization)                                                 \n",
      "                                                                 \n",
      " dropout_5 (Dropout)         (None, 64)                0         \n",
      "                                                                 \n",
      " dense_7 (Dense)             (None, 1)                 65        \n",
      "                                                                 \n",
      "=================================================================\n",
      "Total params: 20,066,369\n",
      "Trainable params: 20,065,985\n",
      "Non-trainable params: 384\n",
      "_________________________________________________________________\n"
     ]
    }
   ],
   "source": [
    "model_vgg19.summary()"
   ]
  },
  {
   "cell_type": "code",
   "execution_count": 30,
   "id": "57fb1fa8",
   "metadata": {},
   "outputs": [
    {
     "name": "stdout",
     "output_type": "stream",
     "text": [
      "Model: \"sequential_2\"\n",
      "_________________________________________________________________\n",
      " Layer (type)                Output Shape              Param #   \n",
      "=================================================================\n",
      " resnet50 (Functional)       (None, 2, 2, 2048)        23587712  \n",
      "                                                                 \n",
      " flatten_2 (Flatten)         (None, 8192)              0         \n",
      "                                                                 \n",
      " dense_8 (Dense)             (None, 64)                524352    \n",
      "                                                                 \n",
      " batch_normalization_6 (Batc  (None, 64)               256       \n",
      " hNormalization)                                                 \n",
      "                                                                 \n",
      " dropout_6 (Dropout)         (None, 64)                0         \n",
      "                                                                 \n",
      " dense_9 (Dense)             (None, 64)                4160      \n",
      "                                                                 \n",
      " batch_normalization_7 (Batc  (None, 64)               256       \n",
      " hNormalization)                                                 \n",
      "                                                                 \n",
      " dropout_7 (Dropout)         (None, 64)                0         \n",
      "                                                                 \n",
      " dense_10 (Dense)            (None, 64)                4160      \n",
      "                                                                 \n",
      " batch_normalization_8 (Batc  (None, 64)               256       \n",
      " hNormalization)                                                 \n",
      "                                                                 \n",
      " dropout_8 (Dropout)         (None, 64)                0         \n",
      "                                                                 \n",
      " dense_11 (Dense)            (None, 1)                 65        \n",
      "                                                                 \n",
      "=================================================================\n",
      "Total params: 24,121,217\n",
      "Trainable params: 24,067,713\n",
      "Non-trainable params: 53,504\n",
      "_________________________________________________________________\n"
     ]
    }
   ],
   "source": [
    "model_resnet50.summary()"
   ]
  },
  {
   "cell_type": "markdown",
   "id": "3c3d3176",
   "metadata": {},
   "source": [
    "#### Fitting the vgg19 model"
   ]
  },
  {
   "cell_type": "code",
   "execution_count": 31,
   "id": "3387726c",
   "metadata": {},
   "outputs": [
    {
     "name": "stderr",
     "output_type": "stream",
     "text": [
      "2022-03-09 15:34:07.766668: W tensorflow/core/platform/profile_utils/cpu_utils.cc:128] Failed to get CPU frequency: 0 Hz\n"
     ]
    },
    {
     "name": "stdout",
     "output_type": "stream",
     "text": [
      "Epoch 1/1000\n"
     ]
    },
    {
     "name": "stderr",
     "output_type": "stream",
     "text": [
      "2022-03-09 15:34:08.230388: I tensorflow/core/grappler/optimizers/custom_graph_optimizer_registry.cc:112] Plugin optimizer for device_type GPU is enabled.\n"
     ]
    },
    {
     "name": "stdout",
     "output_type": "stream",
     "text": [
      "163/163 [==============================] - ETA: 0s - loss: 0.8551 - acc: 0.5345"
     ]
    },
    {
     "name": "stderr",
     "output_type": "stream",
     "text": [
      "2022-03-09 15:34:25.540704: I tensorflow/core/grappler/optimizers/custom_graph_optimizer_registry.cc:112] Plugin optimizer for device_type GPU is enabled.\n"
     ]
    },
    {
     "name": "stdout",
     "output_type": "stream",
     "text": [
      "163/163 [==============================] - 25s 145ms/step - loss: 0.8551 - acc: 0.5345 - val_loss: 1.5757 - val_acc: 0.1726\n",
      "Epoch 2/1000\n",
      "163/163 [==============================] - 20s 122ms/step - loss: 0.7414 - acc: 0.5951 - val_loss: 0.8376 - val_acc: 0.4037\n",
      "Epoch 3/1000\n",
      "163/163 [==============================] - 25s 156ms/step - loss: 0.5654 - acc: 0.7098 - val_loss: 0.4120 - val_acc: 0.8213\n",
      "Epoch 4/1000\n",
      "163/163 [==============================] - 18s 112ms/step - loss: 0.4686 - acc: 0.7819 - val_loss: 0.8157 - val_acc: 0.4445\n",
      "Epoch 5/1000\n",
      "163/163 [==============================] - 19s 116ms/step - loss: 0.4389 - acc: 0.8103 - val_loss: 0.4416 - val_acc: 0.8436\n",
      "Epoch 6/1000\n",
      "163/163 [==============================] - 22s 135ms/step - loss: 0.3717 - acc: 0.8504 - val_loss: 0.4821 - val_acc: 0.8667\n",
      "Epoch 7/1000\n",
      "163/163 [==============================] - 22s 137ms/step - loss: 0.3273 - acc: 0.8725 - val_loss: 0.4476 - val_acc: 0.8975\n",
      "Epoch 8/1000\n",
      "163/163 [==============================] - 21s 127ms/step - loss: 0.3012 - acc: 0.8842 - val_loss: 0.5015 - val_acc: 0.8197\n",
      "Epoch 9/1000\n",
      "163/163 [==============================] - 22s 137ms/step - loss: 0.3224 - acc: 0.8750 - val_loss: 0.4991 - val_acc: 0.8274\n",
      "Epoch 10/1000\n",
      "163/163 [==============================] - 20s 124ms/step - loss: 0.3892 - acc: 0.8509 - val_loss: 0.3184 - val_acc: 0.8652\n",
      "Epoch 11/1000\n",
      "163/163 [==============================] - 23s 139ms/step - loss: 0.2820 - acc: 0.8965 - val_loss: 0.3356 - val_acc: 0.8529\n",
      "Epoch 12/1000\n",
      "163/163 [==============================] - 21s 127ms/step - loss: 0.2394 - acc: 0.9102 - val_loss: 0.2896 - val_acc: 0.8798\n",
      "Epoch 13/1000\n",
      "163/163 [==============================] - 25s 151ms/step - loss: 0.2057 - acc: 0.9242 - val_loss: 0.3064 - val_acc: 0.8783\n",
      "Epoch 14/1000\n",
      "163/163 [==============================] - 19s 116ms/step - loss: 0.2009 - acc: 0.9286 - val_loss: 0.3741 - val_acc: 0.8929\n",
      "Epoch 15/1000\n",
      "163/163 [==============================] - 22s 137ms/step - loss: 0.2055 - acc: 0.9211 - val_loss: 0.3491 - val_acc: 0.8390\n",
      "Epoch 16/1000\n",
      "163/163 [==============================] - 19s 115ms/step - loss: 0.1792 - acc: 0.9354 - val_loss: 0.2334 - val_acc: 0.9268\n",
      "Epoch 17/1000\n",
      "163/163 [==============================] - 23s 140ms/step - loss: 0.1766 - acc: 0.9327 - val_loss: 0.2544 - val_acc: 0.8937\n",
      "Epoch 18/1000\n",
      "163/163 [==============================] - 21s 128ms/step - loss: 0.1609 - acc: 0.9404 - val_loss: 0.2225 - val_acc: 0.9361\n",
      "Epoch 19/1000\n",
      "163/163 [==============================] - 24s 146ms/step - loss: 0.1613 - acc: 0.9404 - val_loss: 0.2515 - val_acc: 0.8968\n",
      "Epoch 20/1000\n",
      "163/163 [==============================] - 21s 126ms/step - loss: 0.1379 - acc: 0.9498 - val_loss: 0.2521 - val_acc: 0.8898\n",
      "Epoch 21/1000\n",
      "163/163 [==============================] - 19s 117ms/step - loss: 0.1466 - acc: 0.9438 - val_loss: 0.2132 - val_acc: 0.9307\n",
      "Epoch 22/1000\n",
      "163/163 [==============================] - 19s 118ms/step - loss: 0.1490 - acc: 0.9450 - val_loss: 0.2305 - val_acc: 0.9114\n",
      "Epoch 23/1000\n",
      "163/163 [==============================] - 22s 136ms/step - loss: 0.1337 - acc: 0.9486 - val_loss: 0.2318 - val_acc: 0.9345\n",
      "Epoch 24/1000\n",
      "163/163 [==============================] - 21s 127ms/step - loss: 0.1338 - acc: 0.9492 - val_loss: 0.2009 - val_acc: 0.9361\n",
      "Epoch 25/1000\n",
      "163/163 [==============================] - 22s 137ms/step - loss: 0.1304 - acc: 0.9552 - val_loss: 0.2037 - val_acc: 0.9391\n",
      "Epoch 26/1000\n",
      "163/163 [==============================] - 20s 122ms/step - loss: 0.1236 - acc: 0.9548 - val_loss: 0.2100 - val_acc: 0.9199\n",
      "Epoch 27/1000\n",
      "163/163 [==============================] - 22s 133ms/step - loss: 0.1274 - acc: 0.9523 - val_loss: 0.2315 - val_acc: 0.9037\n",
      "Epoch 28/1000\n",
      "163/163 [==============================] - 20s 124ms/step - loss: 0.1288 - acc: 0.9535 - val_loss: 0.2217 - val_acc: 0.9153\n",
      "Epoch 29/1000\n",
      "163/163 [==============================] - 23s 138ms/step - loss: 0.1118 - acc: 0.9583 - val_loss: 0.2182 - val_acc: 0.9153\n",
      "Epoch 30/1000\n",
      "163/163 [==============================] - 20s 125ms/step - loss: 0.1124 - acc: 0.9617 - val_loss: 0.2043 - val_acc: 0.9368\n",
      "Epoch 31/1000\n",
      "163/163 [==============================] - 26s 157ms/step - loss: 0.0978 - acc: 0.9615 - val_loss: 0.2083 - val_acc: 0.9468\n",
      "Epoch 32/1000\n",
      "163/163 [==============================] - 22s 134ms/step - loss: 0.0932 - acc: 0.9683 - val_loss: 0.1903 - val_acc: 0.9391\n",
      "Epoch 33/1000\n",
      "163/163 [==============================] - 267s 2s/step - loss: 0.0917 - acc: 0.9681 - val_loss: 0.1861 - val_acc: 0.9522\n",
      "Epoch 34/1000\n",
      "163/163 [==============================] - 18s 111ms/step - loss: 0.1218 - acc: 0.9594 - val_loss: 0.1932 - val_acc: 0.9322\n",
      "Epoch 35/1000\n",
      "163/163 [==============================] - 23s 138ms/step - loss: 0.1016 - acc: 0.9613 - val_loss: 0.1728 - val_acc: 0.9584\n",
      "Epoch 36/1000\n",
      "163/163 [==============================] - 19s 117ms/step - loss: 0.0879 - acc: 0.9692 - val_loss: 0.1993 - val_acc: 0.9284\n",
      "Epoch 37/1000\n",
      "163/163 [==============================] - 20s 124ms/step - loss: 0.0945 - acc: 0.9700 - val_loss: 0.1892 - val_acc: 0.9484\n",
      "Epoch 38/1000\n",
      "163/163 [==============================] - 18s 112ms/step - loss: 0.0838 - acc: 0.9710 - val_loss: 0.1886 - val_acc: 0.9476\n",
      "Epoch 39/1000\n",
      "163/163 [==============================] - 23s 139ms/step - loss: 0.0753 - acc: 0.9760 - val_loss: 0.1826 - val_acc: 0.9530\n",
      "Epoch 40/1000\n",
      "163/163 [==============================] - 19s 116ms/step - loss: 0.0789 - acc: 0.9742 - val_loss: 0.1860 - val_acc: 0.9484\n",
      "Epoch 41/1000\n",
      "163/163 [==============================] - 23s 143ms/step - loss: 0.0799 - acc: 0.9736 - val_loss: 0.2066 - val_acc: 0.9330\n",
      "Epoch 42/1000\n",
      "163/163 [==============================] - 21s 129ms/step - loss: 0.0524 - acc: 0.9848 - val_loss: 0.1810 - val_acc: 0.9538\n",
      "Epoch 43/1000\n",
      "163/163 [==============================] - 24s 146ms/step - loss: 0.0656 - acc: 0.9788 - val_loss: 0.2202 - val_acc: 0.9314\n",
      "Epoch 44/1000\n",
      "163/163 [==============================] - 23s 143ms/step - loss: 0.0766 - acc: 0.9740 - val_loss: 0.2111 - val_acc: 0.9299\n",
      "Epoch 45/1000\n",
      "163/163 [==============================] - 49s 304ms/step - loss: 0.0745 - acc: 0.9740 - val_loss: 0.2118 - val_acc: 0.9461\n",
      "Epoch 46/1000\n",
      "163/163 [==============================] - 19s 113ms/step - loss: 0.0601 - acc: 0.9785 - val_loss: 0.1856 - val_acc: 0.9530\n",
      "Epoch 47/1000\n",
      "163/163 [==============================] - 22s 134ms/step - loss: 0.0686 - acc: 0.9765 - val_loss: 0.1907 - val_acc: 0.9492\n",
      "Epoch 48/1000\n",
      "163/163 [==============================] - 20s 119ms/step - loss: 0.0567 - acc: 0.9833 - val_loss: 0.1807 - val_acc: 0.9468\n",
      "Epoch 49/1000\n",
      "163/163 [==============================] - 23s 143ms/step - loss: 0.0686 - acc: 0.9769 - val_loss: 0.1788 - val_acc: 0.9453\n",
      "Epoch 50/1000\n",
      "163/163 [==============================] - 19s 118ms/step - loss: 0.0471 - acc: 0.9858 - val_loss: 0.1903 - val_acc: 0.9545\n",
      "Epoch 51/1000\n",
      "163/163 [==============================] - 20s 121ms/step - loss: 0.0468 - acc: 0.9848 - val_loss: 0.1875 - val_acc: 0.9492\n",
      "Epoch 52/1000\n",
      "163/163 [==============================] - 22s 132ms/step - loss: 0.0351 - acc: 0.9890 - val_loss: 0.1684 - val_acc: 0.9538\n",
      "Epoch 53/1000\n",
      "163/163 [==============================] - 22s 137ms/step - loss: 0.0585 - acc: 0.9821 - val_loss: 0.2370 - val_acc: 0.9299\n",
      "Epoch 54/1000\n",
      "163/163 [==============================] - 20s 122ms/step - loss: 0.0518 - acc: 0.9819 - val_loss: 0.2347 - val_acc: 0.9253\n",
      "Epoch 55/1000\n",
      "163/163 [==============================] - 20s 125ms/step - loss: 0.0553 - acc: 0.9831 - val_loss: 0.2056 - val_acc: 0.9414\n",
      "Epoch 56/1000\n",
      "163/163 [==============================] - 20s 123ms/step - loss: 0.0519 - acc: 0.9821 - val_loss: 0.2089 - val_acc: 0.9445\n",
      "Epoch 57/1000\n",
      "163/163 [==============================] - 22s 133ms/step - loss: 0.0440 - acc: 0.9846 - val_loss: 0.1895 - val_acc: 0.9515\n",
      "Epoch 58/1000\n",
      "163/163 [==============================] - 20s 123ms/step - loss: 0.0456 - acc: 0.9869 - val_loss: 0.1804 - val_acc: 0.9484\n",
      "Epoch 59/1000\n",
      "163/163 [==============================] - 21s 127ms/step - loss: 0.0569 - acc: 0.9794 - val_loss: 0.2080 - val_acc: 0.9453\n",
      "Epoch 60/1000\n",
      "163/163 [==============================] - 21s 129ms/step - loss: 0.0354 - acc: 0.9906 - val_loss: 0.1748 - val_acc: 0.9576\n",
      "Epoch 61/1000\n",
      "163/163 [==============================] - 23s 142ms/step - loss: 0.0418 - acc: 0.9883 - val_loss: 0.1966 - val_acc: 0.9499\n",
      "Epoch 62/1000\n",
      "163/163 [==============================] - 20s 121ms/step - loss: 0.0407 - acc: 0.9871 - val_loss: 0.2618 - val_acc: 0.9099\n",
      "Epoch 63/1000\n",
      "163/163 [==============================] - 22s 134ms/step - loss: 0.0491 - acc: 0.9842 - val_loss: 0.2065 - val_acc: 0.9607\n",
      "Epoch 64/1000\n",
      "163/163 [==============================] - 21s 127ms/step - loss: 0.0273 - acc: 0.9929 - val_loss: 0.1725 - val_acc: 0.9553\n",
      "Epoch 65/1000\n",
      "163/163 [==============================] - 20s 123ms/step - loss: 0.0281 - acc: 0.9910 - val_loss: 0.1849 - val_acc: 0.9445\n",
      "Epoch 66/1000\n",
      "163/163 [==============================] - 20s 124ms/step - loss: 0.0439 - acc: 0.9844 - val_loss: 0.1600 - val_acc: 0.9538\n",
      "Epoch 67/1000\n",
      "163/163 [==============================] - 20s 126ms/step - loss: 0.0443 - acc: 0.9881 - val_loss: 0.1937 - val_acc: 0.9545\n",
      "Epoch 68/1000\n",
      "163/163 [==============================] - 21s 127ms/step - loss: 0.0670 - acc: 0.9808 - val_loss: 0.1976 - val_acc: 0.9576\n",
      "Epoch 69/1000\n",
      "163/163 [==============================] - 21s 131ms/step - loss: 0.0597 - acc: 0.9825 - val_loss: 0.2238 - val_acc: 0.9430\n",
      "Epoch 70/1000\n",
      "163/163 [==============================] - 20s 122ms/step - loss: 0.0374 - acc: 0.9900 - val_loss: 0.2213 - val_acc: 0.9414\n",
      "Epoch 71/1000\n",
      "163/163 [==============================] - 22s 136ms/step - loss: 0.0477 - acc: 0.9837 - val_loss: 0.6989 - val_acc: 0.8544\n",
      "Epoch 72/1000\n",
      "163/163 [==============================] - 21s 126ms/step - loss: 0.0761 - acc: 0.9758 - val_loss: 0.2256 - val_acc: 0.9253\n",
      "Epoch 73/1000\n",
      "163/163 [==============================] - 21s 131ms/step - loss: 0.0409 - acc: 0.9879 - val_loss: 0.1954 - val_acc: 0.9445\n",
      "Epoch 74/1000\n",
      "163/163 [==============================] - 19s 117ms/step - loss: 0.0450 - acc: 0.9871 - val_loss: 0.1551 - val_acc: 0.9646\n",
      "Epoch 75/1000\n",
      "163/163 [==============================] - 22s 137ms/step - loss: 0.0380 - acc: 0.9896 - val_loss: 0.1699 - val_acc: 0.9553\n",
      "Epoch 76/1000\n",
      "163/163 [==============================] - 21s 128ms/step - loss: 0.0604 - acc: 0.9821 - val_loss: 0.1977 - val_acc: 0.9484\n",
      "Epoch 77/1000\n",
      "163/163 [==============================] - 20s 122ms/step - loss: 0.0636 - acc: 0.9792 - val_loss: 0.1702 - val_acc: 0.9492\n",
      "Epoch 78/1000\n",
      "163/163 [==============================] - 20s 120ms/step - loss: 0.0386 - acc: 0.9894 - val_loss: 0.1815 - val_acc: 0.9507\n",
      "Epoch 79/1000\n",
      "163/163 [==============================] - 20s 122ms/step - loss: 0.0291 - acc: 0.9923 - val_loss: 0.1741 - val_acc: 0.9522\n",
      "Epoch 80/1000\n",
      "163/163 [==============================] - 17s 107ms/step - loss: 0.0254 - acc: 0.9933 - val_loss: 0.1729 - val_acc: 0.9430\n",
      "Epoch 81/1000\n",
      "163/163 [==============================] - 20s 121ms/step - loss: 0.0231 - acc: 0.9931 - val_loss: 0.1475 - val_acc: 0.9599\n",
      "Epoch 82/1000\n",
      "163/163 [==============================] - 21s 130ms/step - loss: 0.0315 - acc: 0.9923 - val_loss: 0.1911 - val_acc: 0.9476\n",
      "Epoch 83/1000\n",
      "163/163 [==============================] - 23s 140ms/step - loss: 0.0357 - acc: 0.9910 - val_loss: 0.1606 - val_acc: 0.9553\n",
      "Epoch 84/1000\n",
      "163/163 [==============================] - 20s 124ms/step - loss: 0.0205 - acc: 0.9942 - val_loss: 0.1570 - val_acc: 0.9569\n",
      "Epoch 85/1000\n",
      "163/163 [==============================] - 22s 134ms/step - loss: 0.0265 - acc: 0.9927 - val_loss: 0.1900 - val_acc: 0.9422\n",
      "Epoch 86/1000\n",
      "163/163 [==============================] - 20s 120ms/step - loss: 0.3565 - acc: 0.8825 - val_loss: 0.5047 - val_acc: 0.8274\n",
      "Epoch 87/1000\n",
      "163/163 [==============================] - 25s 150ms/step - loss: 0.0829 - acc: 0.9729 - val_loss: 0.4319 - val_acc: 0.8305\n",
      "Epoch 88/1000\n",
      "163/163 [==============================] - 19s 116ms/step - loss: 0.0459 - acc: 0.9862 - val_loss: 0.3416 - val_acc: 0.9368\n",
      "Epoch 89/1000\n",
      "163/163 [==============================] - 22s 131ms/step - loss: 0.0338 - acc: 0.9904 - val_loss: 0.2618 - val_acc: 0.9422\n",
      "Epoch 90/1000\n",
      "163/163 [==============================] - 20s 126ms/step - loss: 0.0652 - acc: 0.9798 - val_loss: 0.2246 - val_acc: 0.9530\n",
      "Epoch 91/1000\n",
      "163/163 [==============================] - 24s 150ms/step - loss: 0.0218 - acc: 0.9944 - val_loss: 0.1686 - val_acc: 0.9553\n",
      "Epoch 92/1000\n",
      "163/163 [==============================] - 19s 118ms/step - loss: 0.0349 - acc: 0.9898 - val_loss: 0.1762 - val_acc: 0.9499\n",
      "Epoch 93/1000\n",
      "163/163 [==============================] - 22s 134ms/step - loss: 0.0372 - acc: 0.9888 - val_loss: 0.1641 - val_acc: 0.9576\n",
      "Epoch 94/1000\n",
      "163/163 [==============================] - 21s 127ms/step - loss: 0.0298 - acc: 0.9917 - val_loss: 0.1522 - val_acc: 0.9646\n",
      "Epoch 95/1000\n",
      "163/163 [==============================] - 21s 126ms/step - loss: 0.0296 - acc: 0.9915 - val_loss: 0.1800 - val_acc: 0.9515\n",
      "Epoch 96/1000\n",
      "163/163 [==============================] - 20s 124ms/step - loss: 0.0575 - acc: 0.9821 - val_loss: 0.2038 - val_acc: 0.9492\n",
      "Epoch 97/1000\n",
      "163/163 [==============================] - 24s 147ms/step - loss: 0.0324 - acc: 0.9910 - val_loss: 0.1540 - val_acc: 0.9545\n",
      "Epoch 98/1000\n",
      "163/163 [==============================] - 19s 117ms/step - loss: 0.0282 - acc: 0.9913 - val_loss: 0.1701 - val_acc: 0.9561\n",
      "Epoch 99/1000\n",
      "163/163 [==============================] - 23s 138ms/step - loss: 0.0254 - acc: 0.9927 - val_loss: 0.2048 - val_acc: 0.9353\n",
      "Epoch 100/1000\n",
      "163/163 [==============================] - 21s 127ms/step - loss: 0.0218 - acc: 0.9940 - val_loss: 0.1596 - val_acc: 0.9615\n",
      "Epoch 101/1000\n",
      "163/163 [==============================] - 21s 126ms/step - loss: 0.0258 - acc: 0.9931 - val_loss: 0.1792 - val_acc: 0.9545\n"
     ]
    },
    {
     "data": {
      "text/plain": [
       "<keras.callbacks.History at 0x16a1c40a0>"
      ]
     },
     "execution_count": 31,
     "metadata": {},
     "output_type": "execute_result"
    }
   ],
   "source": [
    "model_vgg19.fit(train_gen, epochs=1000,validation_data=val_gen,callbacks=[earlystop])"
   ]
  },
  {
   "cell_type": "markdown",
   "id": "6b805315",
   "metadata": {},
   "source": [
    "#### Fitting the vgg16 model"
   ]
  },
  {
   "cell_type": "code",
   "execution_count": 32,
   "id": "087c47ec",
   "metadata": {
    "scrolled": true
   },
   "outputs": [
    {
     "name": "stdout",
     "output_type": "stream",
     "text": [
      "Epoch 1/1000\n"
     ]
    },
    {
     "name": "stderr",
     "output_type": "stream",
     "text": [
      "2022-03-09 16:15:12.381521: I tensorflow/core/grappler/optimizers/custom_graph_optimizer_registry.cc:112] Plugin optimizer for device_type GPU is enabled.\n"
     ]
    },
    {
     "name": "stdout",
     "output_type": "stream",
     "text": [
      "163/163 [==============================] - ETA: 0s - loss: 0.9036 - acc: 0.5091"
     ]
    },
    {
     "name": "stderr",
     "output_type": "stream",
     "text": [
      "2022-03-09 16:15:27.490489: I tensorflow/core/grappler/optimizers/custom_graph_optimizer_registry.cc:112] Plugin optimizer for device_type GPU is enabled.\n"
     ]
    },
    {
     "name": "stdout",
     "output_type": "stream",
     "text": [
      "163/163 [==============================] - 23s 137ms/step - loss: 0.9036 - acc: 0.5091 - val_loss: 1.0884 - val_acc: 0.3891\n",
      "Epoch 2/1000\n",
      "163/163 [==============================] - 21s 126ms/step - loss: 0.7037 - acc: 0.6022 - val_loss: 3.1671 - val_acc: 0.8274\n",
      "Epoch 3/1000\n",
      "163/163 [==============================] - 27s 163ms/step - loss: 0.6067 - acc: 0.6859 - val_loss: 0.5372 - val_acc: 0.8059\n",
      "Epoch 4/1000\n",
      "163/163 [==============================] - 19s 119ms/step - loss: 0.4982 - acc: 0.7675 - val_loss: 0.5103 - val_acc: 0.7928\n",
      "Epoch 5/1000\n",
      "163/163 [==============================] - 26s 160ms/step - loss: 0.4274 - acc: 0.8200 - val_loss: 0.7571 - val_acc: 0.6194\n",
      "Epoch 6/1000\n",
      "163/163 [==============================] - 21s 128ms/step - loss: 0.3749 - acc: 0.8465 - val_loss: 0.5531 - val_acc: 0.7242\n",
      "Epoch 7/1000\n",
      "163/163 [==============================] - 21s 127ms/step - loss: 0.3297 - acc: 0.8656 - val_loss: 0.3230 - val_acc: 0.9114\n",
      "Epoch 8/1000\n",
      "163/163 [==============================] - 22s 134ms/step - loss: 0.2597 - acc: 0.9058 - val_loss: 0.3010 - val_acc: 0.9083\n",
      "Epoch 9/1000\n",
      "163/163 [==============================] - 19s 116ms/step - loss: 0.2454 - acc: 0.9148 - val_loss: 0.2658 - val_acc: 0.9284\n",
      "Epoch 10/1000\n",
      "163/163 [==============================] - 21s 131ms/step - loss: 0.2235 - acc: 0.9188 - val_loss: 0.2489 - val_acc: 0.9430\n",
      "Epoch 11/1000\n",
      "163/163 [==============================] - 24s 149ms/step - loss: 0.1998 - acc: 0.9288 - val_loss: 0.3025 - val_acc: 0.9045\n",
      "Epoch 12/1000\n",
      "163/163 [==============================] - 21s 131ms/step - loss: 0.2062 - acc: 0.9263 - val_loss: 0.2532 - val_acc: 0.9230\n",
      "Epoch 13/1000\n",
      "163/163 [==============================] - 24s 150ms/step - loss: 0.1778 - acc: 0.9371 - val_loss: 0.2533 - val_acc: 0.9206\n",
      "Epoch 14/1000\n",
      "163/163 [==============================] - 20s 120ms/step - loss: 0.1750 - acc: 0.9396 - val_loss: 0.2561 - val_acc: 0.9153\n",
      "Epoch 15/1000\n",
      "163/163 [==============================] - 18s 110ms/step - loss: 0.1739 - acc: 0.9383 - val_loss: 0.2110 - val_acc: 0.9476\n",
      "Epoch 16/1000\n",
      "163/163 [==============================] - 21s 129ms/step - loss: 0.1574 - acc: 0.9475 - val_loss: 0.2148 - val_acc: 0.9515\n",
      "Epoch 17/1000\n",
      "163/163 [==============================] - 23s 138ms/step - loss: 0.1503 - acc: 0.9490 - val_loss: 0.2079 - val_acc: 0.9399\n",
      "Epoch 18/1000\n",
      "163/163 [==============================] - 20s 122ms/step - loss: 0.1758 - acc: 0.9338 - val_loss: 0.3534 - val_acc: 0.8475\n",
      "Epoch 19/1000\n",
      "163/163 [==============================] - 25s 156ms/step - loss: 0.1596 - acc: 0.9438 - val_loss: 0.2217 - val_acc: 0.9414\n",
      "Epoch 20/1000\n",
      "163/163 [==============================] - 20s 124ms/step - loss: 0.1386 - acc: 0.9552 - val_loss: 0.2012 - val_acc: 0.9476\n",
      "Epoch 21/1000\n",
      "163/163 [==============================] - 25s 152ms/step - loss: 0.1743 - acc: 0.9392 - val_loss: 0.1987 - val_acc: 0.9445\n",
      "Epoch 22/1000\n",
      "163/163 [==============================] - 23s 139ms/step - loss: 0.1430 - acc: 0.9494 - val_loss: 0.1930 - val_acc: 0.9476\n",
      "Epoch 23/1000\n",
      "163/163 [==============================] - 23s 138ms/step - loss: 0.1282 - acc: 0.9588 - val_loss: 0.1914 - val_acc: 0.9515\n",
      "Epoch 24/1000\n",
      "163/163 [==============================] - 21s 127ms/step - loss: 0.1202 - acc: 0.9594 - val_loss: 0.1787 - val_acc: 0.9538\n",
      "Epoch 25/1000\n",
      "163/163 [==============================] - 20s 125ms/step - loss: 0.1095 - acc: 0.9650 - val_loss: 0.1823 - val_acc: 0.9461\n",
      "Epoch 26/1000\n",
      "163/163 [==============================] - 21s 130ms/step - loss: 0.1127 - acc: 0.9608 - val_loss: 0.1856 - val_acc: 0.9553\n",
      "Epoch 27/1000\n",
      "163/163 [==============================] - 25s 151ms/step - loss: 0.1144 - acc: 0.9629 - val_loss: 0.2080 - val_acc: 0.9307\n",
      "Epoch 28/1000\n",
      "163/163 [==============================] - 23s 138ms/step - loss: 0.0923 - acc: 0.9690 - val_loss: 0.1681 - val_acc: 0.9499\n",
      "Epoch 29/1000\n",
      "163/163 [==============================] - 23s 138ms/step - loss: 0.1125 - acc: 0.9610 - val_loss: 0.3153 - val_acc: 0.9022\n",
      "Epoch 30/1000\n",
      "163/163 [==============================] - 21s 129ms/step - loss: 0.1118 - acc: 0.9598 - val_loss: 0.1955 - val_acc: 0.9461\n",
      "Epoch 31/1000\n",
      "163/163 [==============================] - 24s 150ms/step - loss: 0.0853 - acc: 0.9713 - val_loss: 0.1682 - val_acc: 0.9468\n",
      "Epoch 32/1000\n",
      "163/163 [==============================] - 22s 137ms/step - loss: 0.0724 - acc: 0.9773 - val_loss: 0.1625 - val_acc: 0.9538\n",
      "Epoch 33/1000\n",
      "163/163 [==============================] - 24s 147ms/step - loss: 0.0877 - acc: 0.9696 - val_loss: 0.1909 - val_acc: 0.9468\n",
      "Epoch 34/1000\n",
      "163/163 [==============================] - 21s 130ms/step - loss: 0.0699 - acc: 0.9779 - val_loss: 0.1633 - val_acc: 0.9538\n",
      "Epoch 35/1000\n",
      "163/163 [==============================] - 26s 157ms/step - loss: 0.0750 - acc: 0.9760 - val_loss: 0.1830 - val_acc: 0.9538\n",
      "Epoch 36/1000\n",
      "163/163 [==============================] - 22s 133ms/step - loss: 0.0642 - acc: 0.9821 - val_loss: 0.1654 - val_acc: 0.9515\n",
      "Epoch 37/1000\n",
      "163/163 [==============================] - 27s 163ms/step - loss: 0.0748 - acc: 0.9767 - val_loss: 0.1636 - val_acc: 0.9538\n",
      "Epoch 38/1000\n",
      "163/163 [==============================] - 22s 136ms/step - loss: 0.0831 - acc: 0.9740 - val_loss: 0.1855 - val_acc: 0.9445\n",
      "Epoch 39/1000\n",
      "163/163 [==============================] - 25s 151ms/step - loss: 0.0635 - acc: 0.9794 - val_loss: 0.1932 - val_acc: 0.9407\n",
      "Epoch 40/1000\n",
      "163/163 [==============================] - 23s 142ms/step - loss: 0.0588 - acc: 0.9813 - val_loss: 0.1676 - val_acc: 0.9538\n",
      "Epoch 41/1000\n",
      "163/163 [==============================] - 22s 134ms/step - loss: 0.0683 - acc: 0.9796 - val_loss: 0.2070 - val_acc: 0.9307\n",
      "Epoch 42/1000\n",
      "163/163 [==============================] - 19s 116ms/step - loss: 0.0496 - acc: 0.9850 - val_loss: 0.2100 - val_acc: 0.9376\n",
      "Epoch 43/1000\n",
      "163/163 [==============================] - 22s 133ms/step - loss: 0.0604 - acc: 0.9810 - val_loss: 0.1547 - val_acc: 0.9507\n",
      "Epoch 44/1000\n",
      "163/163 [==============================] - 23s 140ms/step - loss: 0.0625 - acc: 0.9785 - val_loss: 0.1996 - val_acc: 0.9322\n",
      "Epoch 45/1000\n",
      "163/163 [==============================] - 23s 140ms/step - loss: 0.0475 - acc: 0.9840 - val_loss: 0.1490 - val_acc: 0.9530\n",
      "Epoch 46/1000\n",
      "163/163 [==============================] - 22s 133ms/step - loss: 0.0440 - acc: 0.9842 - val_loss: 0.1430 - val_acc: 0.9561\n",
      "Epoch 47/1000\n",
      "163/163 [==============================] - 20s 122ms/step - loss: 0.0382 - acc: 0.9877 - val_loss: 0.1581 - val_acc: 0.9499\n",
      "Epoch 48/1000\n",
      "163/163 [==============================] - 21s 129ms/step - loss: 0.0575 - acc: 0.9831 - val_loss: 0.2007 - val_acc: 0.9492\n",
      "Epoch 49/1000\n",
      "163/163 [==============================] - 23s 138ms/step - loss: 0.0564 - acc: 0.9812 - val_loss: 0.1513 - val_acc: 0.9553\n",
      "Epoch 50/1000\n",
      "163/163 [==============================] - 20s 120ms/step - loss: 0.0465 - acc: 0.9850 - val_loss: 0.1642 - val_acc: 0.9522\n",
      "Epoch 51/1000\n",
      "163/163 [==============================] - 22s 135ms/step - loss: 0.0401 - acc: 0.9875 - val_loss: 0.1701 - val_acc: 0.9507\n",
      "Epoch 52/1000\n",
      "163/163 [==============================] - 22s 132ms/step - loss: 0.0434 - acc: 0.9869 - val_loss: 0.1869 - val_acc: 0.9430\n",
      "Epoch 53/1000\n",
      "163/163 [==============================] - 21s 130ms/step - loss: 0.0364 - acc: 0.9894 - val_loss: 0.1593 - val_acc: 0.9522\n",
      "Epoch 54/1000\n",
      "163/163 [==============================] - 20s 121ms/step - loss: 0.0452 - acc: 0.9852 - val_loss: 0.1678 - val_acc: 0.9376\n",
      "Epoch 55/1000\n",
      "163/163 [==============================] - 24s 145ms/step - loss: 0.0443 - acc: 0.9862 - val_loss: 0.1699 - val_acc: 0.9592\n",
      "Epoch 56/1000\n",
      "163/163 [==============================] - 22s 135ms/step - loss: 0.0562 - acc: 0.9837 - val_loss: 0.1700 - val_acc: 0.9391\n",
      "Epoch 57/1000\n",
      "163/163 [==============================] - 23s 139ms/step - loss: 0.0436 - acc: 0.9873 - val_loss: 0.1626 - val_acc: 0.9584\n",
      "Epoch 58/1000\n",
      "163/163 [==============================] - 19s 118ms/step - loss: 0.0344 - acc: 0.9904 - val_loss: 0.1683 - val_acc: 0.9507\n",
      "Epoch 59/1000\n",
      "163/163 [==============================] - 24s 146ms/step - loss: 0.0357 - acc: 0.9900 - val_loss: 0.1622 - val_acc: 0.9576\n",
      "Epoch 60/1000\n",
      "163/163 [==============================] - 19s 116ms/step - loss: 0.0345 - acc: 0.9900 - val_loss: 0.1765 - val_acc: 0.9492\n",
      "Epoch 61/1000\n",
      "163/163 [==============================] - 20s 124ms/step - loss: 0.0348 - acc: 0.9906 - val_loss: 0.1733 - val_acc: 0.9522\n",
      "Epoch 62/1000\n",
      "163/163 [==============================] - 19s 115ms/step - loss: 0.0494 - acc: 0.9852 - val_loss: 0.1816 - val_acc: 0.9507\n",
      "Epoch 63/1000\n",
      "163/163 [==============================] - 17s 104ms/step - loss: 0.0340 - acc: 0.9912 - val_loss: 0.1697 - val_acc: 0.9569\n",
      "Epoch 64/1000\n",
      "163/163 [==============================] - 20s 123ms/step - loss: 0.0429 - acc: 0.9877 - val_loss: 0.1799 - val_acc: 0.9430\n",
      "Epoch 65/1000\n",
      "163/163 [==============================] - 25s 151ms/step - loss: 0.0264 - acc: 0.9927 - val_loss: 0.1663 - val_acc: 0.9584\n",
      "Epoch 66/1000\n",
      "163/163 [==============================] - 24s 146ms/step - loss: 0.0354 - acc: 0.9896 - val_loss: 0.1679 - val_acc: 0.9599\n"
     ]
    },
    {
     "data": {
      "text/plain": [
       "<keras.callbacks.History at 0x16a1bca90>"
      ]
     },
     "execution_count": 32,
     "metadata": {},
     "output_type": "execute_result"
    }
   ],
   "source": [
    "model_vgg16.fit(train_gen, epochs=1000,validation_data=val_gen,callbacks=[earlystop])"
   ]
  },
  {
   "cell_type": "markdown",
   "id": "1a58da68",
   "metadata": {},
   "source": [
    "#### Fitting the resnet50 model"
   ]
  },
  {
   "cell_type": "code",
   "execution_count": 33,
   "id": "79cf2aa4",
   "metadata": {},
   "outputs": [
    {
     "name": "stdout",
     "output_type": "stream",
     "text": [
      "Epoch 1/1000\n"
     ]
    },
    {
     "name": "stderr",
     "output_type": "stream",
     "text": [
      "2022-03-09 16:41:20.826206: I tensorflow/core/grappler/optimizers/custom_graph_optimizer_registry.cc:112] Plugin optimizer for device_type GPU is enabled.\n"
     ]
    },
    {
     "name": "stdout",
     "output_type": "stream",
     "text": [
      "163/163 [==============================] - ETA: 0s - loss: 0.9300 - acc: 0.5222"
     ]
    },
    {
     "name": "stderr",
     "output_type": "stream",
     "text": [
      "2022-03-09 16:41:39.464694: I tensorflow/core/grappler/optimizers/custom_graph_optimizer_registry.cc:112] Plugin optimizer for device_type GPU is enabled.\n"
     ]
    },
    {
     "name": "stdout",
     "output_type": "stream",
     "text": [
      "163/163 [==============================] - 26s 138ms/step - loss: 0.9300 - acc: 0.5222 - val_loss: 0.4710 - val_acc: 0.8274\n",
      "Epoch 2/1000\n",
      "163/163 [==============================] - 19s 117ms/step - loss: 0.7792 - acc: 0.5795 - val_loss: 0.5564 - val_acc: 0.7542\n",
      "Epoch 3/1000\n",
      "163/163 [==============================] - 21s 129ms/step - loss: 0.6528 - acc: 0.6701 - val_loss: 0.4963 - val_acc: 0.8120\n",
      "Epoch 4/1000\n",
      "163/163 [==============================] - 20s 120ms/step - loss: 0.5487 - acc: 0.7359 - val_loss: 0.5612 - val_acc: 0.8413\n",
      "Epoch 5/1000\n",
      "163/163 [==============================] - 21s 128ms/step - loss: 0.4867 - acc: 0.7973 - val_loss: 0.5028 - val_acc: 0.8590\n",
      "Epoch 6/1000\n",
      "163/163 [==============================] - 20s 124ms/step - loss: 0.4093 - acc: 0.8432 - val_loss: 0.4137 - val_acc: 0.8914\n",
      "Epoch 7/1000\n",
      "163/163 [==============================] - 21s 129ms/step - loss: 0.3398 - acc: 0.8852 - val_loss: 0.3679 - val_acc: 0.9114\n",
      "Epoch 8/1000\n",
      "163/163 [==============================] - 20s 121ms/step - loss: 0.2839 - acc: 0.9088 - val_loss: 0.3247 - val_acc: 0.9191\n",
      "Epoch 9/1000\n",
      "163/163 [==============================] - 19s 117ms/step - loss: 0.2539 - acc: 0.9204 - val_loss: 0.2966 - val_acc: 0.9299\n",
      "Epoch 10/1000\n",
      "163/163 [==============================] - 19s 116ms/step - loss: 0.2302 - acc: 0.9331 - val_loss: 0.2593 - val_acc: 0.9422\n",
      "Epoch 11/1000\n",
      "163/163 [==============================] - 21s 127ms/step - loss: 0.2161 - acc: 0.9373 - val_loss: 0.2548 - val_acc: 0.9407\n",
      "Epoch 12/1000\n",
      "163/163 [==============================] - 21s 126ms/step - loss: 0.1795 - acc: 0.9494 - val_loss: 0.2494 - val_acc: 0.9476\n",
      "Epoch 13/1000\n",
      "163/163 [==============================] - 23s 138ms/step - loss: 0.1784 - acc: 0.9502 - val_loss: 0.2253 - val_acc: 0.9484\n",
      "Epoch 14/1000\n",
      "163/163 [==============================] - 19s 116ms/step - loss: 0.1901 - acc: 0.9419 - val_loss: 0.2602 - val_acc: 0.9314\n",
      "Epoch 15/1000\n",
      "163/163 [==============================] - 21s 128ms/step - loss: 0.1625 - acc: 0.9519 - val_loss: 0.2290 - val_acc: 0.9438\n",
      "Epoch 16/1000\n",
      "163/163 [==============================] - 20s 121ms/step - loss: 0.1394 - acc: 0.9608 - val_loss: 0.2042 - val_acc: 0.9561\n",
      "Epoch 17/1000\n",
      "163/163 [==============================] - 20s 124ms/step - loss: 0.1276 - acc: 0.9650 - val_loss: 0.2048 - val_acc: 0.9476\n",
      "Epoch 18/1000\n",
      "163/163 [==============================] - 21s 127ms/step - loss: 0.1130 - acc: 0.9677 - val_loss: 0.1969 - val_acc: 0.9499\n",
      "Epoch 19/1000\n",
      "163/163 [==============================] - 20s 124ms/step - loss: 0.1042 - acc: 0.9696 - val_loss: 0.1839 - val_acc: 0.9553\n",
      "Epoch 20/1000\n",
      "163/163 [==============================] - 20s 123ms/step - loss: 0.1172 - acc: 0.9636 - val_loss: 0.1807 - val_acc: 0.9499\n",
      "Epoch 21/1000\n",
      "163/163 [==============================] - 21s 129ms/step - loss: 0.0898 - acc: 0.9748 - val_loss: 0.1776 - val_acc: 0.9561\n",
      "Epoch 22/1000\n",
      "163/163 [==============================] - 20s 120ms/step - loss: 0.0802 - acc: 0.9777 - val_loss: 0.1763 - val_acc: 0.9569\n",
      "Epoch 23/1000\n",
      "163/163 [==============================] - 20s 123ms/step - loss: 0.0742 - acc: 0.9806 - val_loss: 0.1819 - val_acc: 0.9499\n",
      "Epoch 24/1000\n",
      "163/163 [==============================] - 21s 126ms/step - loss: 0.0944 - acc: 0.9731 - val_loss: 0.1809 - val_acc: 0.9561\n",
      "Epoch 25/1000\n",
      "163/163 [==============================] - 21s 126ms/step - loss: 0.0800 - acc: 0.9781 - val_loss: 0.1792 - val_acc: 0.9484\n",
      "Epoch 26/1000\n",
      "163/163 [==============================] - 19s 116ms/step - loss: 0.0647 - acc: 0.9829 - val_loss: 0.1592 - val_acc: 0.9538\n",
      "Epoch 27/1000\n",
      "163/163 [==============================] - 21s 130ms/step - loss: 0.0602 - acc: 0.9846 - val_loss: 0.1527 - val_acc: 0.9599\n",
      "Epoch 28/1000\n",
      "163/163 [==============================] - 20s 122ms/step - loss: 0.0651 - acc: 0.9825 - val_loss: 0.1467 - val_acc: 0.9569\n",
      "Epoch 29/1000\n",
      "163/163 [==============================] - 22s 132ms/step - loss: 0.0583 - acc: 0.9863 - val_loss: 0.1547 - val_acc: 0.9538\n",
      "Epoch 30/1000\n",
      "163/163 [==============================] - 19s 114ms/step - loss: 0.0543 - acc: 0.9848 - val_loss: 0.1611 - val_acc: 0.9522\n",
      "Epoch 31/1000\n",
      "163/163 [==============================] - 21s 128ms/step - loss: 0.0535 - acc: 0.9840 - val_loss: 0.1936 - val_acc: 0.9376\n",
      "Epoch 32/1000\n",
      "163/163 [==============================] - 20s 120ms/step - loss: 0.0595 - acc: 0.9821 - val_loss: 0.1740 - val_acc: 0.9438\n",
      "Epoch 33/1000\n",
      "163/163 [==============================] - 21s 127ms/step - loss: 0.0512 - acc: 0.9837 - val_loss: 0.1870 - val_acc: 0.9422\n",
      "Epoch 34/1000\n",
      "163/163 [==============================] - 20s 124ms/step - loss: 0.0462 - acc: 0.9863 - val_loss: 0.1479 - val_acc: 0.9530\n",
      "Epoch 35/1000\n",
      "163/163 [==============================] - 19s 118ms/step - loss: 0.0486 - acc: 0.9875 - val_loss: 0.1549 - val_acc: 0.9538\n",
      "Epoch 36/1000\n",
      "163/163 [==============================] - 17s 106ms/step - loss: 0.0441 - acc: 0.9860 - val_loss: 0.1519 - val_acc: 0.9515\n",
      "Epoch 37/1000\n",
      "163/163 [==============================] - 20s 121ms/step - loss: 0.0552 - acc: 0.9842 - val_loss: 0.1613 - val_acc: 0.9499\n",
      "Epoch 38/1000\n",
      "163/163 [==============================] - 19s 118ms/step - loss: 0.0644 - acc: 0.9821 - val_loss: 0.1663 - val_acc: 0.9499\n",
      "Epoch 39/1000\n",
      "163/163 [==============================] - 21s 131ms/step - loss: 0.0578 - acc: 0.9829 - val_loss: 0.2241 - val_acc: 0.9314\n",
      "Epoch 40/1000\n",
      "163/163 [==============================] - 20s 119ms/step - loss: 0.0667 - acc: 0.9823 - val_loss: 0.2724 - val_acc: 0.9230\n",
      "Epoch 41/1000\n",
      "163/163 [==============================] - 21s 128ms/step - loss: 0.1014 - acc: 0.9694 - val_loss: 0.3734 - val_acc: 0.9006\n",
      "Epoch 42/1000\n",
      "163/163 [==============================] - 20s 119ms/step - loss: 0.0850 - acc: 0.9717 - val_loss: 0.1602 - val_acc: 0.9453\n",
      "Epoch 43/1000\n",
      "163/163 [==============================] - 20s 123ms/step - loss: 0.0637 - acc: 0.9798 - val_loss: 0.1645 - val_acc: 0.9530\n",
      "Epoch 44/1000\n",
      "163/163 [==============================] - 20s 122ms/step - loss: 0.0455 - acc: 0.9858 - val_loss: 0.1549 - val_acc: 0.9522\n",
      "Epoch 45/1000\n",
      "163/163 [==============================] - 21s 129ms/step - loss: 0.0402 - acc: 0.9887 - val_loss: 0.1414 - val_acc: 0.9507\n",
      "Epoch 46/1000\n",
      "163/163 [==============================] - 19s 119ms/step - loss: 0.0418 - acc: 0.9900 - val_loss: 0.1489 - val_acc: 0.9561\n",
      "Epoch 47/1000\n",
      "163/163 [==============================] - 21s 128ms/step - loss: 0.0315 - acc: 0.9923 - val_loss: 0.1531 - val_acc: 0.9515\n",
      "Epoch 48/1000\n",
      "163/163 [==============================] - 20s 122ms/step - loss: 0.0577 - acc: 0.9831 - val_loss: 0.1711 - val_acc: 0.9499\n",
      "Epoch 49/1000\n",
      "163/163 [==============================] - 21s 128ms/step - loss: 0.0325 - acc: 0.9912 - val_loss: 0.1536 - val_acc: 0.9530\n",
      "Epoch 50/1000\n",
      "163/163 [==============================] - 20s 123ms/step - loss: 0.0348 - acc: 0.9902 - val_loss: 0.1474 - val_acc: 0.9522\n",
      "Epoch 51/1000\n",
      "163/163 [==============================] - 20s 123ms/step - loss: 0.0369 - acc: 0.9900 - val_loss: 0.2085 - val_acc: 0.9361\n",
      "Epoch 52/1000\n",
      "163/163 [==============================] - 20s 120ms/step - loss: 0.0543 - acc: 0.9852 - val_loss: 0.1635 - val_acc: 0.9484\n",
      "Epoch 53/1000\n",
      "163/163 [==============================] - 21s 131ms/step - loss: 0.0281 - acc: 0.9925 - val_loss: 0.1644 - val_acc: 0.9522\n",
      "Epoch 54/1000\n",
      "163/163 [==============================] - 19s 119ms/step - loss: 0.0235 - acc: 0.9927 - val_loss: 0.1434 - val_acc: 0.9507\n",
      "Epoch 55/1000\n",
      "163/163 [==============================] - 22s 132ms/step - loss: 0.0261 - acc: 0.9933 - val_loss: 0.1417 - val_acc: 0.9622\n",
      "Epoch 56/1000\n",
      "163/163 [==============================] - 20s 119ms/step - loss: 0.0254 - acc: 0.9923 - val_loss: 0.1578 - val_acc: 0.9530\n",
      "Epoch 57/1000\n",
      "163/163 [==============================] - 21s 126ms/step - loss: 0.0367 - acc: 0.9904 - val_loss: 0.1596 - val_acc: 0.9530\n",
      "Epoch 58/1000\n",
      "163/163 [==============================] - 19s 118ms/step - loss: 0.0301 - acc: 0.9937 - val_loss: 0.1933 - val_acc: 0.9438\n",
      "Epoch 59/1000\n",
      "163/163 [==============================] - 21s 131ms/step - loss: 0.0580 - acc: 0.9869 - val_loss: 0.1468 - val_acc: 0.9569\n",
      "Epoch 60/1000\n",
      "163/163 [==============================] - 19s 117ms/step - loss: 0.0218 - acc: 0.9942 - val_loss: 0.1382 - val_acc: 0.9576\n",
      "Epoch 61/1000\n",
      "163/163 [==============================] - 20s 121ms/step - loss: 0.0213 - acc: 0.9946 - val_loss: 0.1566 - val_acc: 0.9538\n",
      "Epoch 62/1000\n",
      "163/163 [==============================] - 20s 125ms/step - loss: 0.0271 - acc: 0.9933 - val_loss: 0.1549 - val_acc: 0.9476\n",
      "Epoch 63/1000\n",
      "163/163 [==============================] - 21s 130ms/step - loss: 0.0262 - acc: 0.9925 - val_loss: 0.1870 - val_acc: 0.9468\n",
      "Epoch 64/1000\n",
      "163/163 [==============================] - 19s 119ms/step - loss: 0.0228 - acc: 0.9944 - val_loss: 0.1803 - val_acc: 0.9391\n",
      "Epoch 65/1000\n",
      "163/163 [==============================] - 21s 127ms/step - loss: 0.0223 - acc: 0.9952 - val_loss: 0.1594 - val_acc: 0.9515\n",
      "Epoch 66/1000\n",
      "163/163 [==============================] - 20s 125ms/step - loss: 0.0198 - acc: 0.9933 - val_loss: 0.1632 - val_acc: 0.9422\n",
      "Epoch 67/1000\n",
      "163/163 [==============================] - 21s 129ms/step - loss: 0.0476 - acc: 0.9871 - val_loss: 0.1656 - val_acc: 0.9461\n",
      "Epoch 68/1000\n",
      "163/163 [==============================] - 20s 120ms/step - loss: 0.0400 - acc: 0.9877 - val_loss: 0.1517 - val_acc: 0.9538\n",
      "Epoch 69/1000\n",
      "163/163 [==============================] - 21s 129ms/step - loss: 0.0231 - acc: 0.9931 - val_loss: 0.1630 - val_acc: 0.9492\n",
      "Epoch 70/1000\n",
      "163/163 [==============================] - 19s 118ms/step - loss: 0.0309 - acc: 0.9913 - val_loss: 0.1499 - val_acc: 0.9576\n",
      "Epoch 71/1000\n",
      "163/163 [==============================] - 20s 124ms/step - loss: 0.0290 - acc: 0.9923 - val_loss: 0.1576 - val_acc: 0.9499\n",
      "Epoch 72/1000\n",
      "163/163 [==============================] - 20s 123ms/step - loss: 0.0258 - acc: 0.9931 - val_loss: 0.1448 - val_acc: 0.9561\n",
      "Epoch 73/1000\n",
      "163/163 [==============================] - 22s 133ms/step - loss: 0.0311 - acc: 0.9885 - val_loss: 0.1533 - val_acc: 0.9530\n",
      "Epoch 74/1000\n",
      "163/163 [==============================] - 20s 121ms/step - loss: 0.0249 - acc: 0.9919 - val_loss: 0.1382 - val_acc: 0.9576\n",
      "Epoch 75/1000\n",
      "163/163 [==============================] - 20s 125ms/step - loss: 0.0250 - acc: 0.9923 - val_loss: 0.1559 - val_acc: 0.9530\n",
      "Epoch 76/1000\n",
      "163/163 [==============================] - 19s 117ms/step - loss: 0.0243 - acc: 0.9933 - val_loss: 0.1566 - val_acc: 0.9476\n",
      "Epoch 77/1000\n",
      "163/163 [==============================] - 20s 123ms/step - loss: 0.0141 - acc: 0.9967 - val_loss: 0.1397 - val_acc: 0.9553\n",
      "Epoch 78/1000\n",
      "163/163 [==============================] - 20s 121ms/step - loss: 0.0271 - acc: 0.9940 - val_loss: 0.1694 - val_acc: 0.9507\n",
      "Epoch 79/1000\n",
      "163/163 [==============================] - 21s 128ms/step - loss: 0.0154 - acc: 0.9958 - val_loss: 0.1530 - val_acc: 0.9553\n",
      "Epoch 80/1000\n",
      "163/163 [==============================] - 20s 122ms/step - loss: 0.0231 - acc: 0.9938 - val_loss: 0.1391 - val_acc: 0.9584\n",
      "Epoch 81/1000\n",
      "163/163 [==============================] - 21s 128ms/step - loss: 0.0276 - acc: 0.9917 - val_loss: 0.1497 - val_acc: 0.9553\n",
      "Epoch 82/1000\n",
      "163/163 [==============================] - 20s 119ms/step - loss: 0.0199 - acc: 0.9942 - val_loss: 0.1188 - val_acc: 0.9622\n",
      "Epoch 83/1000\n",
      "163/163 [==============================] - 21s 127ms/step - loss: 0.0204 - acc: 0.9946 - val_loss: 0.1292 - val_acc: 0.9599\n",
      "Epoch 84/1000\n",
      "163/163 [==============================] - 20s 123ms/step - loss: 0.0247 - acc: 0.9935 - val_loss: 0.1887 - val_acc: 0.9330\n",
      "Epoch 85/1000\n",
      "163/163 [==============================] - 21s 127ms/step - loss: 0.0264 - acc: 0.9919 - val_loss: 0.1322 - val_acc: 0.9615\n",
      "Epoch 86/1000\n",
      "163/163 [==============================] - 20s 119ms/step - loss: 0.0124 - acc: 0.9963 - val_loss: 0.1205 - val_acc: 0.9646\n",
      "Epoch 87/1000\n",
      "163/163 [==============================] - 21s 130ms/step - loss: 0.0187 - acc: 0.9958 - val_loss: 0.2094 - val_acc: 0.9268\n",
      "Epoch 88/1000\n",
      "163/163 [==============================] - 20s 123ms/step - loss: 0.0283 - acc: 0.9919 - val_loss: 0.1399 - val_acc: 0.9576\n",
      "Epoch 89/1000\n",
      "163/163 [==============================] - 20s 124ms/step - loss: 0.0157 - acc: 0.9946 - val_loss: 0.1430 - val_acc: 0.9530\n",
      "Epoch 90/1000\n",
      "163/163 [==============================] - 19s 118ms/step - loss: 0.0202 - acc: 0.9944 - val_loss: 0.1581 - val_acc: 0.9476\n",
      "Epoch 91/1000\n",
      "163/163 [==============================] - 21s 131ms/step - loss: 0.0184 - acc: 0.9952 - val_loss: 0.1447 - val_acc: 0.9553\n",
      "Epoch 92/1000\n",
      "163/163 [==============================] - 20s 124ms/step - loss: 0.0246 - acc: 0.9931 - val_loss: 0.1440 - val_acc: 0.9561\n",
      "Epoch 93/1000\n",
      "163/163 [==============================] - 21s 127ms/step - loss: 0.0153 - acc: 0.9942 - val_loss: 0.1390 - val_acc: 0.9592\n",
      "Epoch 94/1000\n",
      "163/163 [==============================] - 19s 117ms/step - loss: 0.0156 - acc: 0.9954 - val_loss: 0.1529 - val_acc: 0.9522\n",
      "Epoch 95/1000\n",
      "163/163 [==============================] - 21s 129ms/step - loss: 0.0155 - acc: 0.9944 - val_loss: 0.1235 - val_acc: 0.9615\n",
      "Epoch 96/1000\n",
      "163/163 [==============================] - 20s 120ms/step - loss: 0.0143 - acc: 0.9960 - val_loss: 0.2017 - val_acc: 0.9345\n",
      "Epoch 97/1000\n",
      "163/163 [==============================] - 21s 129ms/step - loss: 0.0257 - acc: 0.9915 - val_loss: 0.1543 - val_acc: 0.9468\n",
      "Epoch 98/1000\n",
      "163/163 [==============================] - 20s 124ms/step - loss: 0.0146 - acc: 0.9956 - val_loss: 0.1560 - val_acc: 0.9522\n",
      "Epoch 99/1000\n",
      "163/163 [==============================] - 20s 124ms/step - loss: 0.0203 - acc: 0.9944 - val_loss: 0.1386 - val_acc: 0.9584\n",
      "Epoch 100/1000\n",
      "163/163 [==============================] - 20s 121ms/step - loss: 0.0218 - acc: 0.9935 - val_loss: 0.2076 - val_acc: 0.9353\n",
      "Epoch 101/1000\n",
      "163/163 [==============================] - 20s 124ms/step - loss: 0.0216 - acc: 0.9931 - val_loss: 0.1312 - val_acc: 0.9622\n",
      "Epoch 102/1000\n",
      "163/163 [==============================] - 19s 117ms/step - loss: 0.0167 - acc: 0.9954 - val_loss: 0.1423 - val_acc: 0.9630\n"
     ]
    },
    {
     "data": {
      "text/plain": [
       "<keras.callbacks.History at 0x156e625e0>"
      ]
     },
     "execution_count": 33,
     "metadata": {},
     "output_type": "execute_result"
    }
   ],
   "source": [
    "model_resnet50.fit(train_gen, epochs=1000,validation_data=val_gen,callbacks=[earlystop])"
   ]
  },
  {
   "cell_type": "markdown",
   "id": "67490753",
   "metadata": {},
   "source": [
    "## Evaluation"
   ]
  },
  {
   "cell_type": "markdown",
   "id": "c675b49b",
   "metadata": {},
   "source": [
    "#### lossacc has one parameter that takes in model so it can plot loss val_loss and accuracy val_accuracy"
   ]
  },
  {
   "cell_type": "code",
   "execution_count": 34,
   "id": "8c9b45dc",
   "metadata": {},
   "outputs": [],
   "source": [
    "def lossacc(model):\n",
    "    df = pd.DataFrame(model.history.history)\n",
    "    df[['loss','val_loss']].plot()\n",
    "    df[['acc','val_acc']].plot()"
   ]
  },
  {
   "cell_type": "markdown",
   "id": "ab0d02ad",
   "metadata": {},
   "source": [
    "## Loss and acc for vgg16"
   ]
  },
  {
   "cell_type": "code",
   "execution_count": 35,
   "id": "fcb02418",
   "metadata": {},
   "outputs": [
    {
     "data": {
      "image/png": "[encoded data removed]",
      "text/plain": [
       "<Figure size 432x288 with 1 Axes>"
      ]
     },
     "metadata": {
      "needs_background": "light"
     },
     "output_type": "display_data"
    },
    {
     "data": {
      "image/png": "[encoded data removed]",
      "text/plain": [
       "<Figure size 432x288 with 1 Axes>"
      ]
     },
     "metadata": {
      "needs_background": "light"
     },
     "output_type": "display_data"
    }
   ],
   "source": [
    "lossacc(model_vgg16)"
   ]
  },
  {
   "cell_type": "markdown",
   "id": "0efd3fe5",
   "metadata": {},
   "source": [
    "## Loss and acc for vgg19"
   ]
  },
  {
   "cell_type": "code",
   "execution_count": 36,
   "id": "c44c4767",
   "metadata": {},
   "outputs": [
    {
     "data": {
      "image/png": "[encoded data removed]",
      "text/plain": [
       "<Figure size 432x288 with 1 Axes>"
      ]
     },
     "metadata": {
      "needs_background": "light"
     },
     "output_type": "display_data"
    },
    {
     "data": {
      "image/png": "[encoded data removed]",
      "text/plain": [
       "<Figure size 432x288 with 1 Axes>"
      ]
     },
     "metadata": {
      "needs_background": "light"
     },
     "output_type": "display_data"
    }
   ],
   "source": [
    "lossacc(model_vgg19)"
   ]
  },
  {
   "cell_type": "markdown",
   "id": "3d2098c0",
   "metadata": {},
   "source": [
    "## Loss and acc for resnet50"
   ]
  },
  {
   "cell_type": "code",
   "execution_count": 37,
   "id": "459c515a",
   "metadata": {},
   "outputs": [
    {
     "data": {
      "image/png": "[encoded data removed]",
      "text/plain": [
       "<Figure size 432x288 with 1 Axes>"
      ]
     },
     "metadata": {
      "needs_background": "light"
     },
     "output_type": "display_data"
    },
    {
     "data": {
      "image/png": "[encoded data removed]",
      "text/plain": [
       "<Figure size 432x288 with 1 Axes>"
      ]
     },
     "metadata": {
      "needs_background": "light"
     },
     "output_type": "display_data"
    }
   ],
   "source": [
    "lossacc(model_resnet50)"
   ]
  },
  {
   "cell_type": "markdown",
   "id": "f0b63373",
   "metadata": {},
   "source": [
    "The <b>gety_pred parameter</b> take in 2 input which is model and testgen then predict the ypred to get the optimum cutoff point that round the ypred to either 1 or 0 then return it"
   ]
  },
  {
   "cell_type": "code",
   "execution_count": 38,
   "id": "afab2009",
   "metadata": {},
   "outputs": [],
   "source": [
    "def gety_pred(model, testgen):\n",
    "    y_pred = model.predict(testgen)\n",
    "    fpr, tpr, threshold=roc_curve(test_gen.classes,y_pred)\n",
    "    idx = np.argmax(np.abs(tpr - fpr))\n",
    "    cutoff = threshold[idx]\n",
    "    y_pred = 1*(y_pred>=cutoff)\n",
    "    return y_pred"
   ]
  },
  {
   "cell_type": "markdown",
   "id": "850d2392",
   "metadata": {},
   "source": [
    "Apply the function"
   ]
  },
  {
   "cell_type": "code",
   "execution_count": 39,
   "id": "bb9fc095",
   "metadata": {},
   "outputs": [
    {
     "name": "stderr",
     "output_type": "stream",
     "text": [
      "2022-03-09 17:16:06.792530: I tensorflow/core/grappler/optimizers/custom_graph_optimizer_registry.cc:112] Plugin optimizer for device_type GPU is enabled.\n",
      "2022-03-09 17:16:18.412350: I tensorflow/core/grappler/optimizers/custom_graph_optimizer_registry.cc:112] Plugin optimizer for device_type GPU is enabled.\n",
      "2022-03-09 17:16:27.574847: I tensorflow/core/grappler/optimizers/custom_graph_optimizer_registry.cc:112] Plugin optimizer for device_type GPU is enabled.\n"
     ]
    }
   ],
   "source": [
    "vgg16_ypred = gety_pred(model_vgg16, test_gen)\n",
    "vgg19_ypred = gety_pred(model_vgg19, test_gen)\n",
    "resnet50_ypred = gety_pred(model_resnet50, test_gen)"
   ]
  },
  {
   "cell_type": "markdown",
   "id": "81fed6ea",
   "metadata": {},
   "source": [
    "This function below plot the confusion matrix and classification report"
   ]
  },
  {
   "cell_type": "code",
   "execution_count": 40,
   "id": "802ce283",
   "metadata": {},
   "outputs": [],
   "source": [
    "def confusionmatrix_report(truegen, y_pred):\n",
    "    sns.heatmap(confusion_matrix(truegen.classes, y_pred), annot=True, cmap='viridis', fmt='g')\n",
    "    print(classification_report(truegen.classes, y_pred))"
   ]
  },
  {
   "cell_type": "markdown",
   "id": "caeca657",
   "metadata": {},
   "source": [
    "## Vgg16 confusion matrix"
   ]
  },
  {
   "cell_type": "code",
   "execution_count": 41,
   "id": "78d4ed4e",
   "metadata": {},
   "outputs": [
    {
     "name": "stdout",
     "output_type": "stream",
     "text": [
      "              precision    recall  f1-score   support\n",
      "\n",
      "           0       0.98      0.96      0.97      1342\n",
      "           1       0.83      0.92      0.87       282\n",
      "\n",
      "    accuracy                           0.95      1624\n",
      "   macro avg       0.90      0.94      0.92      1624\n",
      "weighted avg       0.96      0.95      0.95      1624\n",
      "\n"
     ]
    },
    {
     "data": {
      "image/png": "[encoded data removed]",
      "text/plain": [
       "<Figure size 432x288 with 2 Axes>"
      ]
     },
     "metadata": {
      "needs_background": "light"
     },
     "output_type": "display_data"
    }
   ],
   "source": [
    "confusionmatrix_report(test_gen, vgg16_ypred)"
   ]
  },
  {
   "cell_type": "markdown",
   "id": "34c6f33d",
   "metadata": {},
   "source": [
    "## Vgg19 confusion matrix"
   ]
  },
  {
   "cell_type": "code",
   "execution_count": 42,
   "id": "64633f34",
   "metadata": {},
   "outputs": [
    {
     "name": "stdout",
     "output_type": "stream",
     "text": [
      "              precision    recall  f1-score   support\n",
      "\n",
      "           0       0.98      0.96      0.97      1342\n",
      "           1       0.84      0.92      0.88       282\n",
      "\n",
      "    accuracy                           0.96      1624\n",
      "   macro avg       0.91      0.94      0.92      1624\n",
      "weighted avg       0.96      0.96      0.96      1624\n",
      "\n"
     ]
    },
    {
     "data": {
      "image/png": "[encoded data removed]",
      "text/plain": [
       "<Figure size 432x288 with 2 Axes>"
      ]
     },
     "metadata": {
      "needs_background": "light"
     },
     "output_type": "display_data"
    }
   ],
   "source": [
    "confusionmatrix_report(test_gen, vgg19_ypred)"
   ]
  },
  {
   "cell_type": "markdown",
   "id": "e4039571",
   "metadata": {},
   "source": [
    "## Resnet50 confusion matrix"
   ]
  },
  {
   "cell_type": "code",
   "execution_count": 43,
   "id": "d343aff8",
   "metadata": {},
   "outputs": [
    {
     "name": "stdout",
     "output_type": "stream",
     "text": [
      "              precision    recall  f1-score   support\n",
      "\n",
      "           0       0.99      0.95      0.97      1342\n",
      "           1       0.79      0.93      0.86       282\n",
      "\n",
      "    accuracy                           0.95      1624\n",
      "   macro avg       0.89      0.94      0.91      1624\n",
      "weighted avg       0.95      0.95      0.95      1624\n",
      "\n"
     ]
    },
    {
     "data": {
      "image/png": "[encoded data removed]",
      "text/plain": [
       "<Figure size 432x288 with 2 Axes>"
      ]
     },
     "metadata": {
      "needs_background": "light"
     },
     "output_type": "display_data"
    }
   ],
   "source": [
    "confusionmatrix_report(test_gen, resnet50_ypred)"
   ]
  },
  {
   "cell_type": "markdown",
   "id": "d135f809",
   "metadata": {},
   "source": [
    "The metricsreturn function will yield accuracy, sensitivity and specificity"
   ]
  },
  {
   "cell_type": "code",
   "execution_count": 44,
   "id": "0e5ffc9a",
   "metadata": {},
   "outputs": [],
   "source": [
    "def metricsreturn(test_gen, y_pred):\n",
    "    accuracy = accuracy_score(test_gen.classes, y_pred)\n",
    "    sensitivity = recall_score(test_gen.classes, y_pred)\n",
    "    tp, fp, fn, tn = confusion_matrix(test_gen.classes, y_pred).ravel()\n",
    "    specificity = tn / (tn+fp) # since there is no function for specificity\n",
    "    return [accuracy, sensitivity, specificity]"
   ]
  },
  {
   "cell_type": "markdown",
   "id": "ed3b02b3",
   "metadata": {},
   "source": [
    "apply the function"
   ]
  },
  {
   "cell_type": "code",
   "execution_count": 45,
   "id": "39f66434",
   "metadata": {},
   "outputs": [],
   "source": [
    "vgg16score = metricsreturn(test_gen, vgg16_ypred)\n",
    "vgg19score = metricsreturn(test_gen, vgg19_ypred)\n",
    "resnet50score = metricsreturn(test_gen, resnet50_ypred)"
   ]
  },
  {
   "cell_type": "markdown",
   "id": "3fcfea7e",
   "metadata": {},
   "source": [
    "### put it into the dataframe for easier visualization"
   ]
  },
  {
   "cell_type": "code",
   "execution_count": 46,
   "id": "9b27c68c",
   "metadata": {},
   "outputs": [
    {
     "data": {
      "text/html": [
       "<div>\n",
       "<style scoped>\n",
       "    .dataframe tbody tr th:only-of-type {\n",
       "        vertical-align: middle;\n",
       "    }\n",
       "\n",
       "    .dataframe tbody tr th {\n",
       "        vertical-align: top;\n",
       "    }\n",
       "\n",
       "    .dataframe thead th {\n",
       "        text-align: right;\n",
       "    }\n",
       "</style>\n",
       "<table border=\"1\" class=\"dataframe\">\n",
       "  <thead>\n",
       "    <tr style=\"text-align: right;\">\n",
       "      <th></th>\n",
       "      <th>accuracy</th>\n",
       "      <th>sensitivity</th>\n",
       "      <th>specificity</th>\n",
       "    </tr>\n",
       "  </thead>\n",
       "  <tbody>\n",
       "    <tr>\n",
       "      <th>vgg16</th>\n",
       "      <td>0.952586</td>\n",
       "      <td>0.918440</td>\n",
       "      <td>0.827476</td>\n",
       "    </tr>\n",
       "    <tr>\n",
       "      <th>vgg19</th>\n",
       "      <td>0.955049</td>\n",
       "      <td>0.918440</td>\n",
       "      <td>0.838188</td>\n",
       "    </tr>\n",
       "    <tr>\n",
       "      <th>resnet50</th>\n",
       "      <td>0.946429</td>\n",
       "      <td>0.932624</td>\n",
       "      <td>0.794562</td>\n",
       "    </tr>\n",
       "  </tbody>\n",
       "</table>\n",
       "</div>"
      ],
      "text/plain": [
       "          accuracy  sensitivity  specificity\n",
       "vgg16     0.952586     0.918440     0.827476\n",
       "vgg19     0.955049     0.918440     0.838188\n",
       "resnet50  0.946429     0.932624     0.794562"
      ]
     },
     "execution_count": 46,
     "metadata": {},
     "output_type": "execute_result"
    }
   ],
   "source": [
    "df = pd.DataFrame([vgg16score,vgg19score,resnet50score], columns = ['accuracy', 'sensitivity', 'specificity'], index = ['vgg16','vgg19','resnet50'])\n",
    "df"
   ]
  },
  {
   "cell_type": "code",
   "execution_count": null,
   "id": "87aff136",
   "metadata": {},
   "outputs": [],
   "source": []
  }
 ],
 "metadata": {
  "kernelspec": {
   "display_name": "Python 3 (ipykernel)",
   "language": "python",
   "name": "python3"
  },
  "language_info": {
   "codemirror_mode": {
    "name": "ipython",
    "version": 3
   },
   "file_extension": ".py",
   "mimetype": "text/x-python",
   "name": "python",
   "nbconvert_exporter": "python",
   "pygments_lexer": "ipython3",
   "version": "3.8.12"
  }
 },
 "nbformat": 4,
 "nbformat_minor": 5
}
